{
 "cells": [
  {
   "cell_type": "markdown",
   "metadata": {
    "heading_collapsed": true
   },
   "source": [
    "## Organization"
   ]
  },
  {
   "cell_type": "markdown",
   "metadata": {
    "hidden": true
   },
   "source": [
    "1. Unique Countries (key: country_name)\n",
    "2. "
   ]
  },
  {
   "cell_type": "markdown",
   "metadata": {},
   "source": [
    "## Learnings..."
   ]
  },
  {
   "cell_type": "code",
   "execution_count": null,
   "metadata": {},
   "outputs": [],
   "source": [
    "# below works, but somehow made df larger (wasn't too large to begin with)\n",
    "# cols = df_wbk_ca.columns[df_wbk_ca.dtypes.eq('object')]\n",
    "# for col in cols:\n",
    "#     df_wbk_ca[col] = df_wbk_ca[col].astype('category')"
   ]
  },
  {
   "cell_type": "code",
   "execution_count": null,
   "metadata": {},
   "outputs": [],
   "source": []
  },
  {
   "cell_type": "markdown",
   "metadata": {},
   "source": [
    "## Import Libraries"
   ]
  },
  {
   "cell_type": "code",
   "execution_count": 2,
   "metadata": {
    "scrolled": true
   },
   "outputs": [],
   "source": [
    "import itertools\n",
    "from datetime import datetime\n",
    "import matplotlib.pyplot as plt\n",
    "import numpy as np\n",
    "import pandas as pd\n",
    "import seaborn as sns\n",
    "\n",
    "%matplotlib inline\n",
    "\n",
    "# Central America reference list\n",
    "central_am_countries = ['Guatemala', 'Belize', 'Honduras', 'Nicaragua', 'El Salvador', 'Panama', 'Costa Rica']"
   ]
  },
  {
   "cell_type": "markdown",
   "metadata": {},
   "source": [
    "## World Development Indicators"
   ]
  },
  {
   "cell_type": "code",
   "execution_count": 128,
   "metadata": {},
   "outputs": [
    {
     "ename": "FileNotFoundError",
     "evalue": "[Errno 2] No such file or directory: '~/ds/metis/intdev_data/development_indicators.pkl'",
     "output_type": "error",
     "traceback": [
      "\u001b[0;31m---------------------------------------------------------------------------\u001b[0m",
      "\u001b[0;31mFileNotFoundError\u001b[0m                         Traceback (most recent call last)",
      "\u001b[0;32m~/anaconda3/lib/python3.6/site-packages/pandas/io/pickle.py\u001b[0m in \u001b[0;36mtry_read\u001b[0;34m(path, encoding)\u001b[0m\n\u001b[1;32m     98\u001b[0m         \u001b[0;32mtry\u001b[0m\u001b[0;34m:\u001b[0m\u001b[0;34m\u001b[0m\u001b[0m\n\u001b[0;32m---> 99\u001b[0;31m             \u001b[0;32mreturn\u001b[0m \u001b[0mread_wrapper\u001b[0m\u001b[0;34m(\u001b[0m\u001b[0;32mlambda\u001b[0m \u001b[0mf\u001b[0m\u001b[0;34m:\u001b[0m \u001b[0mpkl\u001b[0m\u001b[0;34m.\u001b[0m\u001b[0mload\u001b[0m\u001b[0;34m(\u001b[0m\u001b[0mf\u001b[0m\u001b[0;34m)\u001b[0m\u001b[0;34m)\u001b[0m\u001b[0;34m\u001b[0m\u001b[0m\n\u001b[0m\u001b[1;32m    100\u001b[0m         \u001b[0;32mexcept\u001b[0m \u001b[0mException\u001b[0m\u001b[0;34m:\u001b[0m\u001b[0;34m\u001b[0m\u001b[0m\n",
      "\u001b[0;32m~/anaconda3/lib/python3.6/site-packages/pandas/io/pickle.py\u001b[0m in \u001b[0;36mread_wrapper\u001b[0;34m(func)\u001b[0m\n\u001b[1;32m     81\u001b[0m                             \u001b[0mcompression\u001b[0m\u001b[0;34m=\u001b[0m\u001b[0minferred_compression\u001b[0m\u001b[0;34m,\u001b[0m\u001b[0;34m\u001b[0m\u001b[0m\n\u001b[0;32m---> 82\u001b[0;31m                             is_text=False)\n\u001b[0m\u001b[1;32m     83\u001b[0m         \u001b[0;32mtry\u001b[0m\u001b[0;34m:\u001b[0m\u001b[0;34m\u001b[0m\u001b[0m\n",
      "\u001b[0;32m~/anaconda3/lib/python3.6/site-packages/pandas/io/common.py\u001b[0m in \u001b[0;36m_get_handle\u001b[0;34m(path_or_buf, mode, encoding, compression, memory_map, is_text)\u001b[0m\n\u001b[1;32m    395\u001b[0m             \u001b[0;31m# Python 3 and binary mode\u001b[0m\u001b[0;34m\u001b[0m\u001b[0;34m\u001b[0m\u001b[0m\n\u001b[0;32m--> 396\u001b[0;31m             \u001b[0mf\u001b[0m \u001b[0;34m=\u001b[0m \u001b[0mopen\u001b[0m\u001b[0;34m(\u001b[0m\u001b[0mpath_or_buf\u001b[0m\u001b[0;34m,\u001b[0m \u001b[0mmode\u001b[0m\u001b[0;34m)\u001b[0m\u001b[0;34m\u001b[0m\u001b[0m\n\u001b[0m\u001b[1;32m    397\u001b[0m         \u001b[0mhandles\u001b[0m\u001b[0;34m.\u001b[0m\u001b[0mappend\u001b[0m\u001b[0;34m(\u001b[0m\u001b[0mf\u001b[0m\u001b[0;34m)\u001b[0m\u001b[0;34m\u001b[0m\u001b[0m\n",
      "\u001b[0;31mFileNotFoundError\u001b[0m: [Errno 2] No such file or directory: '~/ds/metis/intdev_data/development_indicators.pkl'",
      "\nDuring handling of the above exception, another exception occurred:\n",
      "\u001b[0;31mFileNotFoundError\u001b[0m                         Traceback (most recent call last)",
      "\u001b[0;32m~/anaconda3/lib/python3.6/site-packages/pandas/io/pickle.py\u001b[0m in \u001b[0;36mtry_read\u001b[0;34m(path, encoding)\u001b[0m\n\u001b[1;32m    103\u001b[0m                 return read_wrapper(\n\u001b[0;32m--> 104\u001b[0;31m                     lambda f: pc.load(f, encoding=encoding, compat=False))\n\u001b[0m\u001b[1;32m    105\u001b[0m             \u001b[0;31m# compat pickle\u001b[0m\u001b[0;34m\u001b[0m\u001b[0;34m\u001b[0m\u001b[0m\n",
      "\u001b[0;32m~/anaconda3/lib/python3.6/site-packages/pandas/io/pickle.py\u001b[0m in \u001b[0;36mread_wrapper\u001b[0;34m(func)\u001b[0m\n\u001b[1;32m     81\u001b[0m                             \u001b[0mcompression\u001b[0m\u001b[0;34m=\u001b[0m\u001b[0minferred_compression\u001b[0m\u001b[0;34m,\u001b[0m\u001b[0;34m\u001b[0m\u001b[0m\n\u001b[0;32m---> 82\u001b[0;31m                             is_text=False)\n\u001b[0m\u001b[1;32m     83\u001b[0m         \u001b[0;32mtry\u001b[0m\u001b[0;34m:\u001b[0m\u001b[0;34m\u001b[0m\u001b[0m\n",
      "\u001b[0;32m~/anaconda3/lib/python3.6/site-packages/pandas/io/common.py\u001b[0m in \u001b[0;36m_get_handle\u001b[0;34m(path_or_buf, mode, encoding, compression, memory_map, is_text)\u001b[0m\n\u001b[1;32m    395\u001b[0m             \u001b[0;31m# Python 3 and binary mode\u001b[0m\u001b[0;34m\u001b[0m\u001b[0;34m\u001b[0m\u001b[0m\n\u001b[0;32m--> 396\u001b[0;31m             \u001b[0mf\u001b[0m \u001b[0;34m=\u001b[0m \u001b[0mopen\u001b[0m\u001b[0;34m(\u001b[0m\u001b[0mpath_or_buf\u001b[0m\u001b[0;34m,\u001b[0m \u001b[0mmode\u001b[0m\u001b[0;34m)\u001b[0m\u001b[0;34m\u001b[0m\u001b[0m\n\u001b[0m\u001b[1;32m    397\u001b[0m         \u001b[0mhandles\u001b[0m\u001b[0;34m.\u001b[0m\u001b[0mappend\u001b[0m\u001b[0;34m(\u001b[0m\u001b[0mf\u001b[0m\u001b[0;34m)\u001b[0m\u001b[0;34m\u001b[0m\u001b[0m\n",
      "\u001b[0;31mFileNotFoundError\u001b[0m: [Errno 2] No such file or directory: '~/ds/metis/intdev_data/development_indicators.pkl'",
      "\nDuring handling of the above exception, another exception occurred:\n",
      "\u001b[0;31mFileNotFoundError\u001b[0m                         Traceback (most recent call last)",
      "\u001b[0;32m~/anaconda3/lib/python3.6/site-packages/pandas/io/pickle.py\u001b[0m in \u001b[0;36mread_pickle\u001b[0;34m(path, compression)\u001b[0m\n\u001b[1;32m    109\u001b[0m     \u001b[0;32mtry\u001b[0m\u001b[0;34m:\u001b[0m\u001b[0;34m\u001b[0m\u001b[0m\n\u001b[0;32m--> 110\u001b[0;31m         \u001b[0;32mreturn\u001b[0m \u001b[0mtry_read\u001b[0m\u001b[0;34m(\u001b[0m\u001b[0mpath\u001b[0m\u001b[0;34m)\u001b[0m\u001b[0;34m\u001b[0m\u001b[0m\n\u001b[0m\u001b[1;32m    111\u001b[0m     \u001b[0;32mexcept\u001b[0m\u001b[0;34m:\u001b[0m\u001b[0;34m\u001b[0m\u001b[0m\n",
      "\u001b[0;32m~/anaconda3/lib/python3.6/site-packages/pandas/io/pickle.py\u001b[0m in \u001b[0;36mtry_read\u001b[0;34m(path, encoding)\u001b[0m\n\u001b[1;32m    107\u001b[0m                 return read_wrapper(\n\u001b[0;32m--> 108\u001b[0;31m                     lambda f: pc.load(f, encoding=encoding, compat=True))\n\u001b[0m\u001b[1;32m    109\u001b[0m     \u001b[0;32mtry\u001b[0m\u001b[0;34m:\u001b[0m\u001b[0;34m\u001b[0m\u001b[0m\n",
      "\u001b[0;32m~/anaconda3/lib/python3.6/site-packages/pandas/io/pickle.py\u001b[0m in \u001b[0;36mread_wrapper\u001b[0;34m(func)\u001b[0m\n\u001b[1;32m     81\u001b[0m                             \u001b[0mcompression\u001b[0m\u001b[0;34m=\u001b[0m\u001b[0minferred_compression\u001b[0m\u001b[0;34m,\u001b[0m\u001b[0;34m\u001b[0m\u001b[0m\n\u001b[0;32m---> 82\u001b[0;31m                             is_text=False)\n\u001b[0m\u001b[1;32m     83\u001b[0m         \u001b[0;32mtry\u001b[0m\u001b[0;34m:\u001b[0m\u001b[0;34m\u001b[0m\u001b[0m\n",
      "\u001b[0;32m~/anaconda3/lib/python3.6/site-packages/pandas/io/common.py\u001b[0m in \u001b[0;36m_get_handle\u001b[0;34m(path_or_buf, mode, encoding, compression, memory_map, is_text)\u001b[0m\n\u001b[1;32m    395\u001b[0m             \u001b[0;31m# Python 3 and binary mode\u001b[0m\u001b[0;34m\u001b[0m\u001b[0;34m\u001b[0m\u001b[0m\n\u001b[0;32m--> 396\u001b[0;31m             \u001b[0mf\u001b[0m \u001b[0;34m=\u001b[0m \u001b[0mopen\u001b[0m\u001b[0;34m(\u001b[0m\u001b[0mpath_or_buf\u001b[0m\u001b[0;34m,\u001b[0m \u001b[0mmode\u001b[0m\u001b[0;34m)\u001b[0m\u001b[0;34m\u001b[0m\u001b[0m\n\u001b[0m\u001b[1;32m    397\u001b[0m         \u001b[0mhandles\u001b[0m\u001b[0;34m.\u001b[0m\u001b[0mappend\u001b[0m\u001b[0;34m(\u001b[0m\u001b[0mf\u001b[0m\u001b[0;34m)\u001b[0m\u001b[0;34m\u001b[0m\u001b[0m\n",
      "\u001b[0;31mFileNotFoundError\u001b[0m: [Errno 2] No such file or directory: '~/ds/metis/intdev_data/development_indicators.pkl'",
      "\nDuring handling of the above exception, another exception occurred:\n",
      "\u001b[0;31mFileNotFoundError\u001b[0m                         Traceback (most recent call last)",
      "\u001b[0;32m~/anaconda3/lib/python3.6/site-packages/pandas/io/pickle.py\u001b[0m in \u001b[0;36mtry_read\u001b[0;34m(path, encoding)\u001b[0m\n\u001b[1;32m     98\u001b[0m         \u001b[0;32mtry\u001b[0m\u001b[0;34m:\u001b[0m\u001b[0;34m\u001b[0m\u001b[0m\n\u001b[0;32m---> 99\u001b[0;31m             \u001b[0;32mreturn\u001b[0m \u001b[0mread_wrapper\u001b[0m\u001b[0;34m(\u001b[0m\u001b[0;32mlambda\u001b[0m \u001b[0mf\u001b[0m\u001b[0;34m:\u001b[0m \u001b[0mpkl\u001b[0m\u001b[0;34m.\u001b[0m\u001b[0mload\u001b[0m\u001b[0;34m(\u001b[0m\u001b[0mf\u001b[0m\u001b[0;34m)\u001b[0m\u001b[0;34m)\u001b[0m\u001b[0;34m\u001b[0m\u001b[0m\n\u001b[0m\u001b[1;32m    100\u001b[0m         \u001b[0;32mexcept\u001b[0m \u001b[0mException\u001b[0m\u001b[0;34m:\u001b[0m\u001b[0;34m\u001b[0m\u001b[0m\n",
      "\u001b[0;32m~/anaconda3/lib/python3.6/site-packages/pandas/io/pickle.py\u001b[0m in \u001b[0;36mread_wrapper\u001b[0;34m(func)\u001b[0m\n\u001b[1;32m     81\u001b[0m                             \u001b[0mcompression\u001b[0m\u001b[0;34m=\u001b[0m\u001b[0minferred_compression\u001b[0m\u001b[0;34m,\u001b[0m\u001b[0;34m\u001b[0m\u001b[0m\n\u001b[0;32m---> 82\u001b[0;31m                             is_text=False)\n\u001b[0m\u001b[1;32m     83\u001b[0m         \u001b[0;32mtry\u001b[0m\u001b[0;34m:\u001b[0m\u001b[0;34m\u001b[0m\u001b[0m\n",
      "\u001b[0;32m~/anaconda3/lib/python3.6/site-packages/pandas/io/common.py\u001b[0m in \u001b[0;36m_get_handle\u001b[0;34m(path_or_buf, mode, encoding, compression, memory_map, is_text)\u001b[0m\n\u001b[1;32m    395\u001b[0m             \u001b[0;31m# Python 3 and binary mode\u001b[0m\u001b[0;34m\u001b[0m\u001b[0;34m\u001b[0m\u001b[0m\n\u001b[0;32m--> 396\u001b[0;31m             \u001b[0mf\u001b[0m \u001b[0;34m=\u001b[0m \u001b[0mopen\u001b[0m\u001b[0;34m(\u001b[0m\u001b[0mpath_or_buf\u001b[0m\u001b[0;34m,\u001b[0m \u001b[0mmode\u001b[0m\u001b[0;34m)\u001b[0m\u001b[0;34m\u001b[0m\u001b[0m\n\u001b[0m\u001b[1;32m    397\u001b[0m         \u001b[0mhandles\u001b[0m\u001b[0;34m.\u001b[0m\u001b[0mappend\u001b[0m\u001b[0;34m(\u001b[0m\u001b[0mf\u001b[0m\u001b[0;34m)\u001b[0m\u001b[0;34m\u001b[0m\u001b[0m\n",
      "\u001b[0;31mFileNotFoundError\u001b[0m: [Errno 2] No such file or directory: '~/ds/metis/intdev_data/development_indicators.pkl'",
      "\nDuring handling of the above exception, another exception occurred:\n",
      "\u001b[0;31mFileNotFoundError\u001b[0m                         Traceback (most recent call last)",
      "\u001b[0;32m~/anaconda3/lib/python3.6/site-packages/pandas/io/pickle.py\u001b[0m in \u001b[0;36mtry_read\u001b[0;34m(path, encoding)\u001b[0m\n\u001b[1;32m    103\u001b[0m                 return read_wrapper(\n\u001b[0;32m--> 104\u001b[0;31m                     lambda f: pc.load(f, encoding=encoding, compat=False))\n\u001b[0m\u001b[1;32m    105\u001b[0m             \u001b[0;31m# compat pickle\u001b[0m\u001b[0;34m\u001b[0m\u001b[0;34m\u001b[0m\u001b[0m\n",
      "\u001b[0;32m~/anaconda3/lib/python3.6/site-packages/pandas/io/pickle.py\u001b[0m in \u001b[0;36mread_wrapper\u001b[0;34m(func)\u001b[0m\n\u001b[1;32m     81\u001b[0m                             \u001b[0mcompression\u001b[0m\u001b[0;34m=\u001b[0m\u001b[0minferred_compression\u001b[0m\u001b[0;34m,\u001b[0m\u001b[0;34m\u001b[0m\u001b[0m\n\u001b[0;32m---> 82\u001b[0;31m                             is_text=False)\n\u001b[0m\u001b[1;32m     83\u001b[0m         \u001b[0;32mtry\u001b[0m\u001b[0;34m:\u001b[0m\u001b[0;34m\u001b[0m\u001b[0m\n",
      "\u001b[0;32m~/anaconda3/lib/python3.6/site-packages/pandas/io/common.py\u001b[0m in \u001b[0;36m_get_handle\u001b[0;34m(path_or_buf, mode, encoding, compression, memory_map, is_text)\u001b[0m\n\u001b[1;32m    395\u001b[0m             \u001b[0;31m# Python 3 and binary mode\u001b[0m\u001b[0;34m\u001b[0m\u001b[0;34m\u001b[0m\u001b[0m\n\u001b[0;32m--> 396\u001b[0;31m             \u001b[0mf\u001b[0m \u001b[0;34m=\u001b[0m \u001b[0mopen\u001b[0m\u001b[0;34m(\u001b[0m\u001b[0mpath_or_buf\u001b[0m\u001b[0;34m,\u001b[0m \u001b[0mmode\u001b[0m\u001b[0;34m)\u001b[0m\u001b[0;34m\u001b[0m\u001b[0m\n\u001b[0m\u001b[1;32m    397\u001b[0m         \u001b[0mhandles\u001b[0m\u001b[0;34m.\u001b[0m\u001b[0mappend\u001b[0m\u001b[0;34m(\u001b[0m\u001b[0mf\u001b[0m\u001b[0;34m)\u001b[0m\u001b[0;34m\u001b[0m\u001b[0m\n",
      "\u001b[0;31mFileNotFoundError\u001b[0m: [Errno 2] No such file or directory: '~/ds/metis/intdev_data/development_indicators.pkl'",
      "\nDuring handling of the above exception, another exception occurred:\n",
      "\u001b[0;31mFileNotFoundError\u001b[0m                         Traceback (most recent call last)",
      "\u001b[0;32m<ipython-input-128-580d64b0afe0>\u001b[0m in \u001b[0;36m<module>\u001b[0;34m()\u001b[0m\n\u001b[1;32m     12\u001b[0m \u001b[0;34m\u001b[0m\u001b[0m\n\u001b[1;32m     13\u001b[0m \u001b[0;31m# indicators_read('~/ds/metis/data/world-development-indicators/Indicators.csv')\u001b[0m\u001b[0;34m\u001b[0m\u001b[0;34m\u001b[0m\u001b[0m\n\u001b[0;32m---> 14\u001b[0;31m \u001b[0mdf_wdi\u001b[0m \u001b[0;34m=\u001b[0m \u001b[0mpd\u001b[0m\u001b[0;34m.\u001b[0m\u001b[0mread_pickle\u001b[0m\u001b[0;34m(\u001b[0m\u001b[0;34m'~/ds/metis/intdev_data/development_indicators.pkl'\u001b[0m\u001b[0;34m)\u001b[0m\u001b[0;34m\u001b[0m\u001b[0m\n\u001b[0m",
      "\u001b[0;32m~/anaconda3/lib/python3.6/site-packages/pandas/io/pickle.py\u001b[0m in \u001b[0;36mread_pickle\u001b[0;34m(path, compression)\u001b[0m\n\u001b[1;32m    111\u001b[0m     \u001b[0;32mexcept\u001b[0m\u001b[0;34m:\u001b[0m\u001b[0;34m\u001b[0m\u001b[0m\n\u001b[1;32m    112\u001b[0m         \u001b[0;32mif\u001b[0m \u001b[0mPY3\u001b[0m\u001b[0;34m:\u001b[0m\u001b[0;34m\u001b[0m\u001b[0m\n\u001b[0;32m--> 113\u001b[0;31m             \u001b[0;32mreturn\u001b[0m \u001b[0mtry_read\u001b[0m\u001b[0;34m(\u001b[0m\u001b[0mpath\u001b[0m\u001b[0;34m,\u001b[0m \u001b[0mencoding\u001b[0m\u001b[0;34m=\u001b[0m\u001b[0;34m'latin1'\u001b[0m\u001b[0;34m)\u001b[0m\u001b[0;34m\u001b[0m\u001b[0m\n\u001b[0m\u001b[1;32m    114\u001b[0m         \u001b[0;32mraise\u001b[0m\u001b[0;34m\u001b[0m\u001b[0m\n\u001b[1;32m    115\u001b[0m \u001b[0;34m\u001b[0m\u001b[0m\n",
      "\u001b[0;32m~/anaconda3/lib/python3.6/site-packages/pandas/io/pickle.py\u001b[0m in \u001b[0;36mtry_read\u001b[0;34m(path, encoding)\u001b[0m\n\u001b[1;32m    106\u001b[0m             \u001b[0;32mexcept\u001b[0m\u001b[0;34m:\u001b[0m\u001b[0;34m\u001b[0m\u001b[0m\n\u001b[1;32m    107\u001b[0m                 return read_wrapper(\n\u001b[0;32m--> 108\u001b[0;31m                     lambda f: pc.load(f, encoding=encoding, compat=True))\n\u001b[0m\u001b[1;32m    109\u001b[0m     \u001b[0;32mtry\u001b[0m\u001b[0;34m:\u001b[0m\u001b[0;34m\u001b[0m\u001b[0m\n\u001b[1;32m    110\u001b[0m         \u001b[0;32mreturn\u001b[0m \u001b[0mtry_read\u001b[0m\u001b[0;34m(\u001b[0m\u001b[0mpath\u001b[0m\u001b[0;34m)\u001b[0m\u001b[0;34m\u001b[0m\u001b[0m\n",
      "\u001b[0;32m~/anaconda3/lib/python3.6/site-packages/pandas/io/pickle.py\u001b[0m in \u001b[0;36mread_wrapper\u001b[0;34m(func)\u001b[0m\n\u001b[1;32m     80\u001b[0m         f, fh = _get_handle(path, 'rb',\n\u001b[1;32m     81\u001b[0m                             \u001b[0mcompression\u001b[0m\u001b[0;34m=\u001b[0m\u001b[0minferred_compression\u001b[0m\u001b[0;34m,\u001b[0m\u001b[0;34m\u001b[0m\u001b[0m\n\u001b[0;32m---> 82\u001b[0;31m                             is_text=False)\n\u001b[0m\u001b[1;32m     83\u001b[0m         \u001b[0;32mtry\u001b[0m\u001b[0;34m:\u001b[0m\u001b[0;34m\u001b[0m\u001b[0m\n\u001b[1;32m     84\u001b[0m             \u001b[0;32mreturn\u001b[0m \u001b[0mfunc\u001b[0m\u001b[0;34m(\u001b[0m\u001b[0mf\u001b[0m\u001b[0;34m)\u001b[0m\u001b[0;34m\u001b[0m\u001b[0m\n",
      "\u001b[0;32m~/anaconda3/lib/python3.6/site-packages/pandas/io/common.py\u001b[0m in \u001b[0;36m_get_handle\u001b[0;34m(path_or_buf, mode, encoding, compression, memory_map, is_text)\u001b[0m\n\u001b[1;32m    394\u001b[0m         \u001b[0;32melse\u001b[0m\u001b[0;34m:\u001b[0m\u001b[0;34m\u001b[0m\u001b[0m\n\u001b[1;32m    395\u001b[0m             \u001b[0;31m# Python 3 and binary mode\u001b[0m\u001b[0;34m\u001b[0m\u001b[0;34m\u001b[0m\u001b[0m\n\u001b[0;32m--> 396\u001b[0;31m             \u001b[0mf\u001b[0m \u001b[0;34m=\u001b[0m \u001b[0mopen\u001b[0m\u001b[0;34m(\u001b[0m\u001b[0mpath_or_buf\u001b[0m\u001b[0;34m,\u001b[0m \u001b[0mmode\u001b[0m\u001b[0;34m)\u001b[0m\u001b[0;34m\u001b[0m\u001b[0m\n\u001b[0m\u001b[1;32m    397\u001b[0m         \u001b[0mhandles\u001b[0m\u001b[0;34m.\u001b[0m\u001b[0mappend\u001b[0m\u001b[0;34m(\u001b[0m\u001b[0mf\u001b[0m\u001b[0;34m)\u001b[0m\u001b[0;34m\u001b[0m\u001b[0m\n\u001b[1;32m    398\u001b[0m \u001b[0;34m\u001b[0m\u001b[0m\n",
      "\u001b[0;31mFileNotFoundError\u001b[0m: [Errno 2] No such file or directory: '~/ds/metis/intdev_data/development_indicators.pkl'"
     ]
    }
   ],
   "source": [
    "def indicators_read(file_name):\n",
    "    df_wdi = pd.read_csv(file_name)\n",
    "    \n",
    "    # reduce loaded file size by 50%\n",
    "    df_wdi['CountryName'] = df_wdi.CountryName.astype('category')\n",
    "    df_wdi['CountryCode'] = df_wdi.CountryCode.astype('category')\n",
    "    df_wdi['IndicatorName'] = df_wdi.IndicatorName.astype('category')\n",
    "    df_wdi['IndicatorCode'] = df_wdi.IndicatorCode.astype('category')\n",
    "    \n",
    "    # save to pickle\n",
    "    df_wdi.to_pickle('int_dev_data/development_indicators.pkl')\n",
    "    \n",
    "# indicators_read('~/ds/metis/data/world-development-indicators/Indicators.csv')\n",
    "df_wdi = pd.read_pickle('~/ds/metis/intdev_data/development_indicators.pkl')"
   ]
  },
  {
   "cell_type": "code",
   "execution_count": 9,
   "metadata": {
    "scrolled": true
   },
   "outputs": [
    {
     "name": "stdout",
     "output_type": "stream",
     "text": [
      "<class 'pandas.core.frame.DataFrame'>\n",
      "Int64Index: 72871 entries, 3814937 to 5652470\n",
      "Data columns (total 4 columns):\n",
      "CountryName      72871 non-null category\n",
      "IndicatorName    72871 non-null category\n",
      "Year             72871 non-null int64\n",
      "Value            72871 non-null float64\n",
      "dtypes: category(2), float64(1), int64(1)\n",
      "memory usage: 2.0 MB\n"
     ]
    },
    {
     "name": "stderr",
     "output_type": "stream",
     "text": [
      "/Users/jas/anaconda3/lib/python3.6/site-packages/ipykernel_launcher.py:3: SettingWithCopyWarning: \n",
      "A value is trying to be set on a copy of a slice from a DataFrame\n",
      "\n",
      "See the caveats in the documentation: http://pandas.pydata.org/pandas-docs/stable/indexing.html#indexing-view-versus-copy\n",
      "  This is separate from the ipykernel package so we can avoid doing imports until\n"
     ]
    }
   ],
   "source": [
    "# 1300+ features per year, 1960-2015 (55 years)\n",
    "df_wdi_ca = df_wdi.loc[(df_wdi['CountryName'].isin(central_am_countries)) & (df_wdi['Year'] > 2003) & (df_wdi['Year'] < 2016)]\n",
    "df_wdi_ca.drop(['IndicatorCode', 'CountryCode'], axis=1, inplace=True)\n",
    "df_wdi_ca.info()"
   ]
  },
  {
   "cell_type": "code",
   "execution_count": 10,
   "metadata": {
    "scrolled": true
   },
   "outputs": [
    {
     "name": "stderr",
     "output_type": "stream",
     "text": [
      "/Users/jas/anaconda3/lib/python3.6/site-packages/ipykernel_launcher.py:1: SettingWithCopyWarning: \n",
      "A value is trying to be set on a copy of a slice from a DataFrame\n",
      "\n",
      "See the caveats in the documentation: http://pandas.pydata.org/pandas-docs/stable/indexing.html#indexing-view-versus-copy\n",
      "  \"\"\"Entry point for launching an IPython kernel.\n",
      "/Users/jas/anaconda3/lib/python3.6/site-packages/ipykernel_launcher.py:2: SettingWithCopyWarning: \n",
      "A value is trying to be set on a copy of a slice from a DataFrame.\n",
      "Try using .loc[row_indexer,col_indexer] = value instead\n",
      "\n",
      "See the caveats in the documentation: http://pandas.pydata.org/pandas-docs/stable/indexing.html#indexing-view-versus-copy\n",
      "  \n",
      "/Users/jas/anaconda3/lib/python3.6/site-packages/ipykernel_launcher.py:3: SettingWithCopyWarning: \n",
      "A value is trying to be set on a copy of a slice from a DataFrame.\n",
      "Try using .loc[row_indexer,col_indexer] = value instead\n",
      "\n",
      "See the caveats in the documentation: http://pandas.pydata.org/pandas-docs/stable/indexing.html#indexing-view-versus-copy\n",
      "  This is separate from the ipykernel package so we can avoid doing imports until\n",
      "/Users/jas/anaconda3/lib/python3.6/site-packages/ipykernel_launcher.py:4: SettingWithCopyWarning: \n",
      "A value is trying to be set on a copy of a slice from a DataFrame.\n",
      "Try using .loc[row_indexer,col_indexer] = value instead\n",
      "\n",
      "See the caveats in the documentation: http://pandas.pydata.org/pandas-docs/stable/indexing.html#indexing-view-versus-copy\n",
      "  after removing the cwd from sys.path.\n"
     ]
    },
    {
     "data": {
      "text/plain": [
       "38626"
      ]
     },
     "execution_count": 10,
     "metadata": {},
     "output_type": "execute_result"
    }
   ],
   "source": [
    "df_wdi_ca.sort_values(by=['CountryName', 'Year'], inplace=True)\n",
    "df_wdi_ca['Year'] = df_wdi_ca['Year'].astype(str)\n",
    "df_wdi_ca['CountryName'] = df_wdi_ca['CountryName'].astype(str)\n",
    "df_wdi_ca['cy_id_di'] = df_wdi_ca['CountryName'] + '_' + df_wdi_ca['Year']\n",
    "df_wdi_ca.set_index('cy_id_di', inplace=True)\n",
    "df_wdi_ca = df_wdi_ca.pivot(columns='IndicatorName', values='Value')\n",
    "\n",
    "# drop columns if more than 10% of values are null\n",
    "wdi_drop_list = []\n",
    "for x in range(len(df_wdi_ca.columns)):\n",
    "    if df_wdi_ca.iloc[:,x].isnull().sum() >= (0.10 * (df_wdi_ca.iloc[:,x].notnull().sum() \n",
    "                                                      + df_wdi_ca.iloc[:,x].notnull().sum())):\n",
    "        wdi_drop_list.append(x)\n",
    "        \n",
    "df_wdi_ca.drop(df_wdi_ca.columns[wdi_drop_list], axis=1, inplace=True)\n",
    "\n",
    "# dropped from 78k values in df_wdi_ca to 56k, but better data.\n",
    "df_wdi_ca.notnull().sum().sum()"
   ]
  },
  {
   "cell_type": "code",
   "execution_count": 14,
   "metadata": {},
   "outputs": [
    {
     "data": {
      "text/plain": [
       "Index(['Belize_2004', 'Belize_2005', 'Belize_2006', 'Belize_2007',\n",
       "       'Belize_2008', 'Belize_2009', 'Belize_2010', 'Belize_2011',\n",
       "       'Belize_2012', 'Belize_2013', 'Belize_2014', 'Belize_2015',\n",
       "       'Costa Rica_2004', 'Costa Rica_2005', 'Costa Rica_2006',\n",
       "       'Costa Rica_2007', 'Costa Rica_2008', 'Costa Rica_2009',\n",
       "       'Costa Rica_2010', 'Costa Rica_2011', 'Costa Rica_2012',\n",
       "       'Costa Rica_2013', 'Costa Rica_2014', 'Costa Rica_2015',\n",
       "       'El Salvador_2004', 'El Salvador_2005', 'El Salvador_2006',\n",
       "       'El Salvador_2007', 'El Salvador_2008', 'El Salvador_2009',\n",
       "       'El Salvador_2010', 'El Salvador_2011', 'El Salvador_2012',\n",
       "       'El Salvador_2013', 'El Salvador_2014', 'El Salvador_2015',\n",
       "       'Guatemala_2004', 'Guatemala_2005', 'Guatemala_2006', 'Guatemala_2007',\n",
       "       'Guatemala_2008', 'Guatemala_2009', 'Guatemala_2010', 'Guatemala_2011',\n",
       "       'Guatemala_2012', 'Guatemala_2013', 'Guatemala_2014', 'Guatemala_2015',\n",
       "       'Honduras_2004', 'Honduras_2005', 'Honduras_2006', 'Honduras_2007',\n",
       "       'Honduras_2008', 'Honduras_2009', 'Honduras_2010', 'Honduras_2011',\n",
       "       'Honduras_2012', 'Honduras_2013', 'Honduras_2014', 'Honduras_2015',\n",
       "       'Nicaragua_2004', 'Nicaragua_2005', 'Nicaragua_2006', 'Nicaragua_2007',\n",
       "       'Nicaragua_2008', 'Nicaragua_2009', 'Nicaragua_2010', 'Nicaragua_2011',\n",
       "       'Nicaragua_2012', 'Nicaragua_2013', 'Nicaragua_2014', 'Nicaragua_2015',\n",
       "       'Panama_2004', 'Panama_2005', 'Panama_2006', 'Panama_2007',\n",
       "       'Panama_2008', 'Panama_2009', 'Panama_2010', 'Panama_2011',\n",
       "       'Panama_2012', 'Panama_2013', 'Panama_2014', 'Panama_2015'],\n",
       "      dtype='object', name='cy_id_di')"
      ]
     },
     "execution_count": 14,
     "metadata": {},
     "output_type": "execute_result"
    }
   ],
   "source": [
    "df_wdi_ca.index"
   ]
  },
  {
   "cell_type": "markdown",
   "metadata": {
    "heading_collapsed": true
   },
   "source": [
    "## Commodity Trade Statistics"
   ]
  },
  {
   "cell_type": "code",
   "execution_count": 127,
   "metadata": {
    "hidden": true
   },
   "outputs": [
    {
     "ename": "FileNotFoundError",
     "evalue": "[Errno 2] No such file or directory: '~/ds/metis/intdev_data/commodities.pkl'",
     "output_type": "error",
     "traceback": [
      "\u001b[0;31m---------------------------------------------------------------------------\u001b[0m",
      "\u001b[0;31mFileNotFoundError\u001b[0m                         Traceback (most recent call last)",
      "\u001b[0;32m~/anaconda3/lib/python3.6/site-packages/pandas/io/pickle.py\u001b[0m in \u001b[0;36mtry_read\u001b[0;34m(path, encoding)\u001b[0m\n\u001b[1;32m     98\u001b[0m         \u001b[0;32mtry\u001b[0m\u001b[0;34m:\u001b[0m\u001b[0;34m\u001b[0m\u001b[0m\n\u001b[0;32m---> 99\u001b[0;31m             \u001b[0;32mreturn\u001b[0m \u001b[0mread_wrapper\u001b[0m\u001b[0;34m(\u001b[0m\u001b[0;32mlambda\u001b[0m \u001b[0mf\u001b[0m\u001b[0;34m:\u001b[0m \u001b[0mpkl\u001b[0m\u001b[0;34m.\u001b[0m\u001b[0mload\u001b[0m\u001b[0;34m(\u001b[0m\u001b[0mf\u001b[0m\u001b[0;34m)\u001b[0m\u001b[0;34m)\u001b[0m\u001b[0;34m\u001b[0m\u001b[0m\n\u001b[0m\u001b[1;32m    100\u001b[0m         \u001b[0;32mexcept\u001b[0m \u001b[0mException\u001b[0m\u001b[0;34m:\u001b[0m\u001b[0;34m\u001b[0m\u001b[0m\n",
      "\u001b[0;32m~/anaconda3/lib/python3.6/site-packages/pandas/io/pickle.py\u001b[0m in \u001b[0;36mread_wrapper\u001b[0;34m(func)\u001b[0m\n\u001b[1;32m     81\u001b[0m                             \u001b[0mcompression\u001b[0m\u001b[0;34m=\u001b[0m\u001b[0minferred_compression\u001b[0m\u001b[0;34m,\u001b[0m\u001b[0;34m\u001b[0m\u001b[0m\n\u001b[0;32m---> 82\u001b[0;31m                             is_text=False)\n\u001b[0m\u001b[1;32m     83\u001b[0m         \u001b[0;32mtry\u001b[0m\u001b[0;34m:\u001b[0m\u001b[0;34m\u001b[0m\u001b[0m\n",
      "\u001b[0;32m~/anaconda3/lib/python3.6/site-packages/pandas/io/common.py\u001b[0m in \u001b[0;36m_get_handle\u001b[0;34m(path_or_buf, mode, encoding, compression, memory_map, is_text)\u001b[0m\n\u001b[1;32m    395\u001b[0m             \u001b[0;31m# Python 3 and binary mode\u001b[0m\u001b[0;34m\u001b[0m\u001b[0;34m\u001b[0m\u001b[0m\n\u001b[0;32m--> 396\u001b[0;31m             \u001b[0mf\u001b[0m \u001b[0;34m=\u001b[0m \u001b[0mopen\u001b[0m\u001b[0;34m(\u001b[0m\u001b[0mpath_or_buf\u001b[0m\u001b[0;34m,\u001b[0m \u001b[0mmode\u001b[0m\u001b[0;34m)\u001b[0m\u001b[0;34m\u001b[0m\u001b[0m\n\u001b[0m\u001b[1;32m    397\u001b[0m         \u001b[0mhandles\u001b[0m\u001b[0;34m.\u001b[0m\u001b[0mappend\u001b[0m\u001b[0;34m(\u001b[0m\u001b[0mf\u001b[0m\u001b[0;34m)\u001b[0m\u001b[0;34m\u001b[0m\u001b[0m\n",
      "\u001b[0;31mFileNotFoundError\u001b[0m: [Errno 2] No such file or directory: '~/ds/metis/intdev_data/commodities.pkl'",
      "\nDuring handling of the above exception, another exception occurred:\n",
      "\u001b[0;31mFileNotFoundError\u001b[0m                         Traceback (most recent call last)",
      "\u001b[0;32m~/anaconda3/lib/python3.6/site-packages/pandas/io/pickle.py\u001b[0m in \u001b[0;36mtry_read\u001b[0;34m(path, encoding)\u001b[0m\n\u001b[1;32m    103\u001b[0m                 return read_wrapper(\n\u001b[0;32m--> 104\u001b[0;31m                     lambda f: pc.load(f, encoding=encoding, compat=False))\n\u001b[0m\u001b[1;32m    105\u001b[0m             \u001b[0;31m# compat pickle\u001b[0m\u001b[0;34m\u001b[0m\u001b[0;34m\u001b[0m\u001b[0m\n",
      "\u001b[0;32m~/anaconda3/lib/python3.6/site-packages/pandas/io/pickle.py\u001b[0m in \u001b[0;36mread_wrapper\u001b[0;34m(func)\u001b[0m\n\u001b[1;32m     81\u001b[0m                             \u001b[0mcompression\u001b[0m\u001b[0;34m=\u001b[0m\u001b[0minferred_compression\u001b[0m\u001b[0;34m,\u001b[0m\u001b[0;34m\u001b[0m\u001b[0m\n\u001b[0;32m---> 82\u001b[0;31m                             is_text=False)\n\u001b[0m\u001b[1;32m     83\u001b[0m         \u001b[0;32mtry\u001b[0m\u001b[0;34m:\u001b[0m\u001b[0;34m\u001b[0m\u001b[0m\n",
      "\u001b[0;32m~/anaconda3/lib/python3.6/site-packages/pandas/io/common.py\u001b[0m in \u001b[0;36m_get_handle\u001b[0;34m(path_or_buf, mode, encoding, compression, memory_map, is_text)\u001b[0m\n\u001b[1;32m    395\u001b[0m             \u001b[0;31m# Python 3 and binary mode\u001b[0m\u001b[0;34m\u001b[0m\u001b[0;34m\u001b[0m\u001b[0m\n\u001b[0;32m--> 396\u001b[0;31m             \u001b[0mf\u001b[0m \u001b[0;34m=\u001b[0m \u001b[0mopen\u001b[0m\u001b[0;34m(\u001b[0m\u001b[0mpath_or_buf\u001b[0m\u001b[0;34m,\u001b[0m \u001b[0mmode\u001b[0m\u001b[0;34m)\u001b[0m\u001b[0;34m\u001b[0m\u001b[0m\n\u001b[0m\u001b[1;32m    397\u001b[0m         \u001b[0mhandles\u001b[0m\u001b[0;34m.\u001b[0m\u001b[0mappend\u001b[0m\u001b[0;34m(\u001b[0m\u001b[0mf\u001b[0m\u001b[0;34m)\u001b[0m\u001b[0;34m\u001b[0m\u001b[0m\n",
      "\u001b[0;31mFileNotFoundError\u001b[0m: [Errno 2] No such file or directory: '~/ds/metis/intdev_data/commodities.pkl'",
      "\nDuring handling of the above exception, another exception occurred:\n",
      "\u001b[0;31mFileNotFoundError\u001b[0m                         Traceback (most recent call last)",
      "\u001b[0;32m~/anaconda3/lib/python3.6/site-packages/pandas/io/pickle.py\u001b[0m in \u001b[0;36mread_pickle\u001b[0;34m(path, compression)\u001b[0m\n\u001b[1;32m    109\u001b[0m     \u001b[0;32mtry\u001b[0m\u001b[0;34m:\u001b[0m\u001b[0;34m\u001b[0m\u001b[0m\n\u001b[0;32m--> 110\u001b[0;31m         \u001b[0;32mreturn\u001b[0m \u001b[0mtry_read\u001b[0m\u001b[0;34m(\u001b[0m\u001b[0mpath\u001b[0m\u001b[0;34m)\u001b[0m\u001b[0;34m\u001b[0m\u001b[0m\n\u001b[0m\u001b[1;32m    111\u001b[0m     \u001b[0;32mexcept\u001b[0m\u001b[0;34m:\u001b[0m\u001b[0;34m\u001b[0m\u001b[0m\n",
      "\u001b[0;32m~/anaconda3/lib/python3.6/site-packages/pandas/io/pickle.py\u001b[0m in \u001b[0;36mtry_read\u001b[0;34m(path, encoding)\u001b[0m\n\u001b[1;32m    107\u001b[0m                 return read_wrapper(\n\u001b[0;32m--> 108\u001b[0;31m                     lambda f: pc.load(f, encoding=encoding, compat=True))\n\u001b[0m\u001b[1;32m    109\u001b[0m     \u001b[0;32mtry\u001b[0m\u001b[0;34m:\u001b[0m\u001b[0;34m\u001b[0m\u001b[0m\n",
      "\u001b[0;32m~/anaconda3/lib/python3.6/site-packages/pandas/io/pickle.py\u001b[0m in \u001b[0;36mread_wrapper\u001b[0;34m(func)\u001b[0m\n\u001b[1;32m     81\u001b[0m                             \u001b[0mcompression\u001b[0m\u001b[0;34m=\u001b[0m\u001b[0minferred_compression\u001b[0m\u001b[0;34m,\u001b[0m\u001b[0;34m\u001b[0m\u001b[0m\n\u001b[0;32m---> 82\u001b[0;31m                             is_text=False)\n\u001b[0m\u001b[1;32m     83\u001b[0m         \u001b[0;32mtry\u001b[0m\u001b[0;34m:\u001b[0m\u001b[0;34m\u001b[0m\u001b[0m\n",
      "\u001b[0;32m~/anaconda3/lib/python3.6/site-packages/pandas/io/common.py\u001b[0m in \u001b[0;36m_get_handle\u001b[0;34m(path_or_buf, mode, encoding, compression, memory_map, is_text)\u001b[0m\n\u001b[1;32m    395\u001b[0m             \u001b[0;31m# Python 3 and binary mode\u001b[0m\u001b[0;34m\u001b[0m\u001b[0;34m\u001b[0m\u001b[0m\n\u001b[0;32m--> 396\u001b[0;31m             \u001b[0mf\u001b[0m \u001b[0;34m=\u001b[0m \u001b[0mopen\u001b[0m\u001b[0;34m(\u001b[0m\u001b[0mpath_or_buf\u001b[0m\u001b[0;34m,\u001b[0m \u001b[0mmode\u001b[0m\u001b[0;34m)\u001b[0m\u001b[0;34m\u001b[0m\u001b[0m\n\u001b[0m\u001b[1;32m    397\u001b[0m         \u001b[0mhandles\u001b[0m\u001b[0;34m.\u001b[0m\u001b[0mappend\u001b[0m\u001b[0;34m(\u001b[0m\u001b[0mf\u001b[0m\u001b[0;34m)\u001b[0m\u001b[0;34m\u001b[0m\u001b[0m\n",
      "\u001b[0;31mFileNotFoundError\u001b[0m: [Errno 2] No such file or directory: '~/ds/metis/intdev_data/commodities.pkl'",
      "\nDuring handling of the above exception, another exception occurred:\n",
      "\u001b[0;31mFileNotFoundError\u001b[0m                         Traceback (most recent call last)",
      "\u001b[0;32m~/anaconda3/lib/python3.6/site-packages/pandas/io/pickle.py\u001b[0m in \u001b[0;36mtry_read\u001b[0;34m(path, encoding)\u001b[0m\n\u001b[1;32m     98\u001b[0m         \u001b[0;32mtry\u001b[0m\u001b[0;34m:\u001b[0m\u001b[0;34m\u001b[0m\u001b[0m\n\u001b[0;32m---> 99\u001b[0;31m             \u001b[0;32mreturn\u001b[0m \u001b[0mread_wrapper\u001b[0m\u001b[0;34m(\u001b[0m\u001b[0;32mlambda\u001b[0m \u001b[0mf\u001b[0m\u001b[0;34m:\u001b[0m \u001b[0mpkl\u001b[0m\u001b[0;34m.\u001b[0m\u001b[0mload\u001b[0m\u001b[0;34m(\u001b[0m\u001b[0mf\u001b[0m\u001b[0;34m)\u001b[0m\u001b[0;34m)\u001b[0m\u001b[0;34m\u001b[0m\u001b[0m\n\u001b[0m\u001b[1;32m    100\u001b[0m         \u001b[0;32mexcept\u001b[0m \u001b[0mException\u001b[0m\u001b[0;34m:\u001b[0m\u001b[0;34m\u001b[0m\u001b[0m\n",
      "\u001b[0;32m~/anaconda3/lib/python3.6/site-packages/pandas/io/pickle.py\u001b[0m in \u001b[0;36mread_wrapper\u001b[0;34m(func)\u001b[0m\n\u001b[1;32m     81\u001b[0m                             \u001b[0mcompression\u001b[0m\u001b[0;34m=\u001b[0m\u001b[0minferred_compression\u001b[0m\u001b[0;34m,\u001b[0m\u001b[0;34m\u001b[0m\u001b[0m\n\u001b[0;32m---> 82\u001b[0;31m                             is_text=False)\n\u001b[0m\u001b[1;32m     83\u001b[0m         \u001b[0;32mtry\u001b[0m\u001b[0;34m:\u001b[0m\u001b[0;34m\u001b[0m\u001b[0m\n",
      "\u001b[0;32m~/anaconda3/lib/python3.6/site-packages/pandas/io/common.py\u001b[0m in \u001b[0;36m_get_handle\u001b[0;34m(path_or_buf, mode, encoding, compression, memory_map, is_text)\u001b[0m\n\u001b[1;32m    395\u001b[0m             \u001b[0;31m# Python 3 and binary mode\u001b[0m\u001b[0;34m\u001b[0m\u001b[0;34m\u001b[0m\u001b[0m\n\u001b[0;32m--> 396\u001b[0;31m             \u001b[0mf\u001b[0m \u001b[0;34m=\u001b[0m \u001b[0mopen\u001b[0m\u001b[0;34m(\u001b[0m\u001b[0mpath_or_buf\u001b[0m\u001b[0;34m,\u001b[0m \u001b[0mmode\u001b[0m\u001b[0;34m)\u001b[0m\u001b[0;34m\u001b[0m\u001b[0m\n\u001b[0m\u001b[1;32m    397\u001b[0m         \u001b[0mhandles\u001b[0m\u001b[0;34m.\u001b[0m\u001b[0mappend\u001b[0m\u001b[0;34m(\u001b[0m\u001b[0mf\u001b[0m\u001b[0;34m)\u001b[0m\u001b[0;34m\u001b[0m\u001b[0m\n",
      "\u001b[0;31mFileNotFoundError\u001b[0m: [Errno 2] No such file or directory: '~/ds/metis/intdev_data/commodities.pkl'",
      "\nDuring handling of the above exception, another exception occurred:\n",
      "\u001b[0;31mFileNotFoundError\u001b[0m                         Traceback (most recent call last)",
      "\u001b[0;32m~/anaconda3/lib/python3.6/site-packages/pandas/io/pickle.py\u001b[0m in \u001b[0;36mtry_read\u001b[0;34m(path, encoding)\u001b[0m\n\u001b[1;32m    103\u001b[0m                 return read_wrapper(\n\u001b[0;32m--> 104\u001b[0;31m                     lambda f: pc.load(f, encoding=encoding, compat=False))\n\u001b[0m\u001b[1;32m    105\u001b[0m             \u001b[0;31m# compat pickle\u001b[0m\u001b[0;34m\u001b[0m\u001b[0;34m\u001b[0m\u001b[0m\n",
      "\u001b[0;32m~/anaconda3/lib/python3.6/site-packages/pandas/io/pickle.py\u001b[0m in \u001b[0;36mread_wrapper\u001b[0;34m(func)\u001b[0m\n\u001b[1;32m     81\u001b[0m                             \u001b[0mcompression\u001b[0m\u001b[0;34m=\u001b[0m\u001b[0minferred_compression\u001b[0m\u001b[0;34m,\u001b[0m\u001b[0;34m\u001b[0m\u001b[0m\n\u001b[0;32m---> 82\u001b[0;31m                             is_text=False)\n\u001b[0m\u001b[1;32m     83\u001b[0m         \u001b[0;32mtry\u001b[0m\u001b[0;34m:\u001b[0m\u001b[0;34m\u001b[0m\u001b[0m\n",
      "\u001b[0;32m~/anaconda3/lib/python3.6/site-packages/pandas/io/common.py\u001b[0m in \u001b[0;36m_get_handle\u001b[0;34m(path_or_buf, mode, encoding, compression, memory_map, is_text)\u001b[0m\n\u001b[1;32m    395\u001b[0m             \u001b[0;31m# Python 3 and binary mode\u001b[0m\u001b[0;34m\u001b[0m\u001b[0;34m\u001b[0m\u001b[0m\n\u001b[0;32m--> 396\u001b[0;31m             \u001b[0mf\u001b[0m \u001b[0;34m=\u001b[0m \u001b[0mopen\u001b[0m\u001b[0;34m(\u001b[0m\u001b[0mpath_or_buf\u001b[0m\u001b[0;34m,\u001b[0m \u001b[0mmode\u001b[0m\u001b[0;34m)\u001b[0m\u001b[0;34m\u001b[0m\u001b[0m\n\u001b[0m\u001b[1;32m    397\u001b[0m         \u001b[0mhandles\u001b[0m\u001b[0;34m.\u001b[0m\u001b[0mappend\u001b[0m\u001b[0;34m(\u001b[0m\u001b[0mf\u001b[0m\u001b[0;34m)\u001b[0m\u001b[0;34m\u001b[0m\u001b[0m\n",
      "\u001b[0;31mFileNotFoundError\u001b[0m: [Errno 2] No such file or directory: '~/ds/metis/intdev_data/commodities.pkl'",
      "\nDuring handling of the above exception, another exception occurred:\n",
      "\u001b[0;31mFileNotFoundError\u001b[0m                         Traceback (most recent call last)",
      "\u001b[0;32m<ipython-input-127-96fcb281f108>\u001b[0m in \u001b[0;36m<module>\u001b[0;34m()\u001b[0m\n\u001b[1;32m     14\u001b[0m \u001b[0;34m\u001b[0m\u001b[0m\n\u001b[1;32m     15\u001b[0m \u001b[0;31m# commodities_read('~/ds/metis/data/commodity_trade_statistics_data.csv')\u001b[0m\u001b[0;34m\u001b[0m\u001b[0;34m\u001b[0m\u001b[0m\n\u001b[0;32m---> 16\u001b[0;31m \u001b[0mdf_com\u001b[0m \u001b[0;34m=\u001b[0m \u001b[0mpd\u001b[0m\u001b[0;34m.\u001b[0m\u001b[0mread_pickle\u001b[0m\u001b[0;34m(\u001b[0m\u001b[0;34m'~/ds/metis/intdev_data/commodities.pkl'\u001b[0m\u001b[0;34m)\u001b[0m\u001b[0;34m\u001b[0m\u001b[0m\n\u001b[0m",
      "\u001b[0;32m~/anaconda3/lib/python3.6/site-packages/pandas/io/pickle.py\u001b[0m in \u001b[0;36mread_pickle\u001b[0;34m(path, compression)\u001b[0m\n\u001b[1;32m    111\u001b[0m     \u001b[0;32mexcept\u001b[0m\u001b[0;34m:\u001b[0m\u001b[0;34m\u001b[0m\u001b[0m\n\u001b[1;32m    112\u001b[0m         \u001b[0;32mif\u001b[0m \u001b[0mPY3\u001b[0m\u001b[0;34m:\u001b[0m\u001b[0;34m\u001b[0m\u001b[0m\n\u001b[0;32m--> 113\u001b[0;31m             \u001b[0;32mreturn\u001b[0m \u001b[0mtry_read\u001b[0m\u001b[0;34m(\u001b[0m\u001b[0mpath\u001b[0m\u001b[0;34m,\u001b[0m \u001b[0mencoding\u001b[0m\u001b[0;34m=\u001b[0m\u001b[0;34m'latin1'\u001b[0m\u001b[0;34m)\u001b[0m\u001b[0;34m\u001b[0m\u001b[0m\n\u001b[0m\u001b[1;32m    114\u001b[0m         \u001b[0;32mraise\u001b[0m\u001b[0;34m\u001b[0m\u001b[0m\n\u001b[1;32m    115\u001b[0m \u001b[0;34m\u001b[0m\u001b[0m\n",
      "\u001b[0;32m~/anaconda3/lib/python3.6/site-packages/pandas/io/pickle.py\u001b[0m in \u001b[0;36mtry_read\u001b[0;34m(path, encoding)\u001b[0m\n\u001b[1;32m    106\u001b[0m             \u001b[0;32mexcept\u001b[0m\u001b[0;34m:\u001b[0m\u001b[0;34m\u001b[0m\u001b[0m\n\u001b[1;32m    107\u001b[0m                 return read_wrapper(\n\u001b[0;32m--> 108\u001b[0;31m                     lambda f: pc.load(f, encoding=encoding, compat=True))\n\u001b[0m\u001b[1;32m    109\u001b[0m     \u001b[0;32mtry\u001b[0m\u001b[0;34m:\u001b[0m\u001b[0;34m\u001b[0m\u001b[0m\n\u001b[1;32m    110\u001b[0m         \u001b[0;32mreturn\u001b[0m \u001b[0mtry_read\u001b[0m\u001b[0;34m(\u001b[0m\u001b[0mpath\u001b[0m\u001b[0;34m)\u001b[0m\u001b[0;34m\u001b[0m\u001b[0m\n",
      "\u001b[0;32m~/anaconda3/lib/python3.6/site-packages/pandas/io/pickle.py\u001b[0m in \u001b[0;36mread_wrapper\u001b[0;34m(func)\u001b[0m\n\u001b[1;32m     80\u001b[0m         f, fh = _get_handle(path, 'rb',\n\u001b[1;32m     81\u001b[0m                             \u001b[0mcompression\u001b[0m\u001b[0;34m=\u001b[0m\u001b[0minferred_compression\u001b[0m\u001b[0;34m,\u001b[0m\u001b[0;34m\u001b[0m\u001b[0m\n\u001b[0;32m---> 82\u001b[0;31m                             is_text=False)\n\u001b[0m\u001b[1;32m     83\u001b[0m         \u001b[0;32mtry\u001b[0m\u001b[0;34m:\u001b[0m\u001b[0;34m\u001b[0m\u001b[0m\n\u001b[1;32m     84\u001b[0m             \u001b[0;32mreturn\u001b[0m \u001b[0mfunc\u001b[0m\u001b[0;34m(\u001b[0m\u001b[0mf\u001b[0m\u001b[0;34m)\u001b[0m\u001b[0;34m\u001b[0m\u001b[0m\n",
      "\u001b[0;32m~/anaconda3/lib/python3.6/site-packages/pandas/io/common.py\u001b[0m in \u001b[0;36m_get_handle\u001b[0;34m(path_or_buf, mode, encoding, compression, memory_map, is_text)\u001b[0m\n\u001b[1;32m    394\u001b[0m         \u001b[0;32melse\u001b[0m\u001b[0;34m:\u001b[0m\u001b[0;34m\u001b[0m\u001b[0m\n\u001b[1;32m    395\u001b[0m             \u001b[0;31m# Python 3 and binary mode\u001b[0m\u001b[0;34m\u001b[0m\u001b[0;34m\u001b[0m\u001b[0m\n\u001b[0;32m--> 396\u001b[0;31m             \u001b[0mf\u001b[0m \u001b[0;34m=\u001b[0m \u001b[0mopen\u001b[0m\u001b[0;34m(\u001b[0m\u001b[0mpath_or_buf\u001b[0m\u001b[0;34m,\u001b[0m \u001b[0mmode\u001b[0m\u001b[0;34m)\u001b[0m\u001b[0;34m\u001b[0m\u001b[0m\n\u001b[0m\u001b[1;32m    397\u001b[0m         \u001b[0mhandles\u001b[0m\u001b[0;34m.\u001b[0m\u001b[0mappend\u001b[0m\u001b[0;34m(\u001b[0m\u001b[0mf\u001b[0m\u001b[0;34m)\u001b[0m\u001b[0;34m\u001b[0m\u001b[0m\n\u001b[1;32m    398\u001b[0m \u001b[0;34m\u001b[0m\u001b[0m\n",
      "\u001b[0;31mFileNotFoundError\u001b[0m: [Errno 2] No such file or directory: '~/ds/metis/intdev_data/commodities.pkl'"
     ]
    }
   ],
   "source": [
    "# problem reading file...\n",
    "def commodities_read(file_name):\n",
    "    df_com = pd.read_csv(file_name)\n",
    "    \n",
    "    # reduce file size by 50%\n",
    "    df_com['country_or_area'] = df_com['country_or_area'].astype('category')\n",
    "    df_com['comm_code'] = df_com['comm_code'].astype('category')\n",
    "    df_com['commodity'] = df_com['commodity'].astype('category')\n",
    "    df_com['flow'] = df_com['flow'].astype('category')\n",
    "    df_com['quantity_name'] = df_com['quantity_name'].astype('category')\n",
    "    df_com['category'] = df_com['category'].astype('category')\n",
    "    \n",
    "    # save into pickle file\n",
    "    df_com.to_pickle('~/ds/metis/intdev_data/commodities.pkl')\n",
    "    \n",
    "# commodities_read('~/ds/metis/data/commodity_trade_statistics_data.csv')\n",
    "df_com = pd.read_pickle('~/ds/metis/intdev_data/commodities.pkl')"
   ]
  },
  {
   "cell_type": "code",
   "execution_count": 17,
   "metadata": {
    "hidden": true,
    "scrolled": true
   },
   "outputs": [
    {
     "data": {
      "text/plain": [
       "<bound method Categorical.unique of [Afghanistan, Afghanistan, Afghanistan, Albania, Albania, ..., Zimbabwe, Zimbabwe, Zimbabwe, Zimbabwe, Zimbabwe]\n",
       "Length: 8225871\n",
       "Categories (209, object): [Afghanistan, Albania, Algeria, Andorra, ..., Wallis and Futuna Isds, Yemen, Zambia, Zimbabwe]>"
      ]
     },
     "execution_count": 17,
     "metadata": {},
     "output_type": "execute_result"
    }
   ],
   "source": [
    "df_com.country_or_area.values.unique"
   ]
  },
  {
   "cell_type": "code",
   "execution_count": 18,
   "metadata": {
    "hidden": true,
    "scrolled": true
   },
   "outputs": [
    {
     "name": "stdout",
     "output_type": "stream",
     "text": [
      "<class 'pandas.core.frame.DataFrame'>\n",
      "RangeIndex: 8225871 entries, 0 to 8225870\n",
      "Data columns (total 10 columns):\n",
      "country_or_area    category\n",
      "year               int64\n",
      "comm_code          category\n",
      "commodity          category\n",
      "flow               category\n",
      "trade_usd          int64\n",
      "weight_kg          float64\n",
      "quantity_name      category\n",
      "quantity           float64\n",
      "category           category\n",
      "dtypes: category(6), float64(2), int64(2)\n",
      "memory usage: 321.7 MB\n"
     ]
    }
   ],
   "source": [
    "df_com.info()"
   ]
  },
  {
   "cell_type": "code",
   "execution_count": 21,
   "metadata": {
    "hidden": true
   },
   "outputs": [
    {
     "ename": "ValueError",
     "evalue": "labels ['comm_code' 'weight_kg' 'quantity_name' 'quantity' 'category'] not contained in axis",
     "output_type": "error",
     "traceback": [
      "\u001b[0;31m---------------------------------------------------------------------------\u001b[0m",
      "\u001b[0;31mValueError\u001b[0m                                Traceback (most recent call last)",
      "\u001b[0;32m<ipython-input-21-eea13fa6bf84>\u001b[0m in \u001b[0;36m<module>\u001b[0;34m()\u001b[0m\n\u001b[1;32m      1\u001b[0m \u001b[0;31m# limiting returned information\u001b[0m\u001b[0;34m\u001b[0m\u001b[0;34m\u001b[0m\u001b[0m\n\u001b[0;32m----> 2\u001b[0;31m \u001b[0mdf_com\u001b[0m\u001b[0;34m.\u001b[0m\u001b[0mdrop\u001b[0m\u001b[0;34m(\u001b[0m\u001b[0;34m[\u001b[0m\u001b[0;34m'comm_code'\u001b[0m\u001b[0;34m,\u001b[0m\u001b[0;34m'weight_kg'\u001b[0m\u001b[0;34m,\u001b[0m \u001b[0;34m'quantity_name'\u001b[0m\u001b[0;34m,\u001b[0m \u001b[0;34m'quantity'\u001b[0m\u001b[0;34m,\u001b[0m \u001b[0;34m'category'\u001b[0m\u001b[0;34m]\u001b[0m\u001b[0;34m,\u001b[0m \u001b[0maxis\u001b[0m\u001b[0;34m=\u001b[0m\u001b[0;36m1\u001b[0m\u001b[0;34m,\u001b[0m \u001b[0minplace\u001b[0m\u001b[0;34m=\u001b[0m\u001b[0;32mTrue\u001b[0m\u001b[0;34m)\u001b[0m\u001b[0;34m\u001b[0m\u001b[0m\n\u001b[0m\u001b[1;32m      3\u001b[0m \u001b[0mdf_com\u001b[0m\u001b[0;34m.\u001b[0m\u001b[0mhead\u001b[0m\u001b[0;34m(\u001b[0m\u001b[0;34m)\u001b[0m\u001b[0;34m\u001b[0m\u001b[0m\n",
      "\u001b[0;32m~/anaconda3/lib/python3.6/site-packages/pandas/core/generic.py\u001b[0m in \u001b[0;36mdrop\u001b[0;34m(self, labels, axis, index, columns, level, inplace, errors)\u001b[0m\n\u001b[1;32m   2528\u001b[0m         \u001b[0;32mfor\u001b[0m \u001b[0maxis\u001b[0m\u001b[0;34m,\u001b[0m \u001b[0mlabels\u001b[0m \u001b[0;32min\u001b[0m \u001b[0maxes\u001b[0m\u001b[0;34m.\u001b[0m\u001b[0mitems\u001b[0m\u001b[0;34m(\u001b[0m\u001b[0;34m)\u001b[0m\u001b[0;34m:\u001b[0m\u001b[0;34m\u001b[0m\u001b[0m\n\u001b[1;32m   2529\u001b[0m             \u001b[0;32mif\u001b[0m \u001b[0mlabels\u001b[0m \u001b[0;32mis\u001b[0m \u001b[0;32mnot\u001b[0m \u001b[0;32mNone\u001b[0m\u001b[0;34m:\u001b[0m\u001b[0;34m\u001b[0m\u001b[0m\n\u001b[0;32m-> 2530\u001b[0;31m                 \u001b[0mobj\u001b[0m \u001b[0;34m=\u001b[0m \u001b[0mobj\u001b[0m\u001b[0;34m.\u001b[0m\u001b[0m_drop_axis\u001b[0m\u001b[0;34m(\u001b[0m\u001b[0mlabels\u001b[0m\u001b[0;34m,\u001b[0m \u001b[0maxis\u001b[0m\u001b[0;34m,\u001b[0m \u001b[0mlevel\u001b[0m\u001b[0;34m=\u001b[0m\u001b[0mlevel\u001b[0m\u001b[0;34m,\u001b[0m \u001b[0merrors\u001b[0m\u001b[0;34m=\u001b[0m\u001b[0merrors\u001b[0m\u001b[0;34m)\u001b[0m\u001b[0;34m\u001b[0m\u001b[0m\n\u001b[0m\u001b[1;32m   2531\u001b[0m \u001b[0;34m\u001b[0m\u001b[0m\n\u001b[1;32m   2532\u001b[0m         \u001b[0;32mif\u001b[0m \u001b[0minplace\u001b[0m\u001b[0;34m:\u001b[0m\u001b[0;34m\u001b[0m\u001b[0m\n",
      "\u001b[0;32m~/anaconda3/lib/python3.6/site-packages/pandas/core/generic.py\u001b[0m in \u001b[0;36m_drop_axis\u001b[0;34m(self, labels, axis, level, errors)\u001b[0m\n\u001b[1;32m   2560\u001b[0m                 \u001b[0mnew_axis\u001b[0m \u001b[0;34m=\u001b[0m \u001b[0maxis\u001b[0m\u001b[0;34m.\u001b[0m\u001b[0mdrop\u001b[0m\u001b[0;34m(\u001b[0m\u001b[0mlabels\u001b[0m\u001b[0;34m,\u001b[0m \u001b[0mlevel\u001b[0m\u001b[0;34m=\u001b[0m\u001b[0mlevel\u001b[0m\u001b[0;34m,\u001b[0m \u001b[0merrors\u001b[0m\u001b[0;34m=\u001b[0m\u001b[0merrors\u001b[0m\u001b[0;34m)\u001b[0m\u001b[0;34m\u001b[0m\u001b[0m\n\u001b[1;32m   2561\u001b[0m             \u001b[0;32melse\u001b[0m\u001b[0;34m:\u001b[0m\u001b[0;34m\u001b[0m\u001b[0m\n\u001b[0;32m-> 2562\u001b[0;31m                 \u001b[0mnew_axis\u001b[0m \u001b[0;34m=\u001b[0m \u001b[0maxis\u001b[0m\u001b[0;34m.\u001b[0m\u001b[0mdrop\u001b[0m\u001b[0;34m(\u001b[0m\u001b[0mlabels\u001b[0m\u001b[0;34m,\u001b[0m \u001b[0merrors\u001b[0m\u001b[0;34m=\u001b[0m\u001b[0merrors\u001b[0m\u001b[0;34m)\u001b[0m\u001b[0;34m\u001b[0m\u001b[0m\n\u001b[0m\u001b[1;32m   2563\u001b[0m             \u001b[0mdropped\u001b[0m \u001b[0;34m=\u001b[0m \u001b[0mself\u001b[0m\u001b[0;34m.\u001b[0m\u001b[0mreindex\u001b[0m\u001b[0;34m(\u001b[0m\u001b[0;34m**\u001b[0m\u001b[0;34m{\u001b[0m\u001b[0maxis_name\u001b[0m\u001b[0;34m:\u001b[0m \u001b[0mnew_axis\u001b[0m\u001b[0;34m}\u001b[0m\u001b[0;34m)\u001b[0m\u001b[0;34m\u001b[0m\u001b[0m\n\u001b[1;32m   2564\u001b[0m             \u001b[0;32mtry\u001b[0m\u001b[0;34m:\u001b[0m\u001b[0;34m\u001b[0m\u001b[0m\n",
      "\u001b[0;32m~/anaconda3/lib/python3.6/site-packages/pandas/core/indexes/base.py\u001b[0m in \u001b[0;36mdrop\u001b[0;34m(self, labels, errors)\u001b[0m\n\u001b[1;32m   3742\u001b[0m             \u001b[0;32mif\u001b[0m \u001b[0merrors\u001b[0m \u001b[0;34m!=\u001b[0m \u001b[0;34m'ignore'\u001b[0m\u001b[0;34m:\u001b[0m\u001b[0;34m\u001b[0m\u001b[0m\n\u001b[1;32m   3743\u001b[0m                 raise ValueError('labels %s not contained in axis' %\n\u001b[0;32m-> 3744\u001b[0;31m                                  labels[mask])\n\u001b[0m\u001b[1;32m   3745\u001b[0m             \u001b[0mindexer\u001b[0m \u001b[0;34m=\u001b[0m \u001b[0mindexer\u001b[0m\u001b[0;34m[\u001b[0m\u001b[0;34m~\u001b[0m\u001b[0mmask\u001b[0m\u001b[0;34m]\u001b[0m\u001b[0;34m\u001b[0m\u001b[0m\n\u001b[1;32m   3746\u001b[0m         \u001b[0;32mreturn\u001b[0m \u001b[0mself\u001b[0m\u001b[0;34m.\u001b[0m\u001b[0mdelete\u001b[0m\u001b[0;34m(\u001b[0m\u001b[0mindexer\u001b[0m\u001b[0;34m)\u001b[0m\u001b[0;34m\u001b[0m\u001b[0m\n",
      "\u001b[0;31mValueError\u001b[0m: labels ['comm_code' 'weight_kg' 'quantity_name' 'quantity' 'category'] not contained in axis"
     ]
    }
   ],
   "source": [
    "# limiting returned information\n",
    "df_com.drop(['comm_code','weight_kg', 'quantity_name', 'quantity', 'category'], axis=1, inplace=True)\n",
    "df_com = df_com[df_com.year > 2003]"
   ]
  },
  {
   "cell_type": "code",
   "execution_count": 24,
   "metadata": {
    "hidden": true
   },
   "outputs": [],
   "source": [
    "df_com = df_com[df_com.year > 2003]"
   ]
  },
  {
   "cell_type": "code",
   "execution_count": 25,
   "metadata": {
    "hidden": true,
    "scrolled": true
   },
   "outputs": [
    {
     "data": {
      "text/plain": [
       "{2004, 2005, 2006, 2007, 2008, 2009, 2010, 2011, 2012, 2013, 2014, 2015, 2016}"
      ]
     },
     "execution_count": 25,
     "metadata": {},
     "output_type": "execute_result"
    }
   ],
   "source": [
    "set(df_com.year)"
   ]
  },
  {
   "cell_type": "markdown",
   "metadata": {
    "heading_collapsed": true
   },
   "source": [
    "## Remittance Inflow"
   ]
  },
  {
   "cell_type": "code",
   "execution_count": 131,
   "metadata": {
    "hidden": true
   },
   "outputs": [],
   "source": [
    "df_remin = pd.read_csv('int_dev_data/remittance-inflow.csv', index_col='Migrant remittance inflows (US$ million)')"
   ]
  },
  {
   "cell_type": "code",
   "execution_count": 132,
   "metadata": {
    "hidden": true
   },
   "outputs": [],
   "source": [
    "df_remin = df_remin.loc[:,'2004':'2015']\n",
    "df_remin.dropna(how='all', axis=0, inplace=True)"
   ]
  },
  {
   "cell_type": "code",
   "execution_count": 135,
   "metadata": {
    "hidden": true
   },
   "outputs": [],
   "source": [
    "df_remin.reset_index(inplace=True)\n",
    "df_remin = pd.melt(df_remin, id_vars=['Migrant remittance inflows (US$ million)'])\n",
    "df_remin = df_remin[df_remin['Migrant remittance inflows (US$ million)'] != 'World']\n",
    "df_remin.rename(columns={'Migrant remittance inflows (US$ million)':'Country', 'variable':'Year', 'value':'rem_inflow_milusd'},inplace=True)\n",
    "df_remin['cy_ID'] = df_remin['Country'] + '_' + df_remin['Year']"
   ]
  },
  {
   "cell_type": "code",
   "execution_count": 137,
   "metadata": {
    "hidden": true
   },
   "outputs": [
    {
     "name": "stdout",
     "output_type": "stream",
     "text": [
      "<class 'pandas.core.frame.DataFrame'>\n",
      "Index: 6624 entries, Afghanistan_index to Zambia_value\n",
      "Data columns (total 3 columns):\n",
      "Country              6624 non-null object\n",
      "Year                 6624 non-null object\n",
      "rem_inflow_milusd    6528 non-null object\n",
      "dtypes: object(3)\n",
      "memory usage: 207.0+ KB\n"
     ]
    }
   ],
   "source": [
    "df_remin.set_index('cy_ID', inplace=True)\n",
    "df_remin.info()"
   ]
  },
  {
   "cell_type": "markdown",
   "metadata": {
    "heading_collapsed": true
   },
   "source": [
    "## Remittance Outflow"
   ]
  },
  {
   "cell_type": "code",
   "execution_count": 153,
   "metadata": {
    "hidden": true
   },
   "outputs": [],
   "source": [
    "df_remout = pd.read_csv('int_dev_data/remittance-outflow.csv', index_col='Migrant remittance outflows (US$ million)')"
   ]
  },
  {
   "cell_type": "code",
   "execution_count": 154,
   "metadata": {
    "hidden": true
   },
   "outputs": [
    {
     "data": {
      "text/html": [
       "<div>\n",
       "<style scoped>\n",
       "    .dataframe tbody tr th:only-of-type {\n",
       "        vertical-align: middle;\n",
       "    }\n",
       "\n",
       "    .dataframe tbody tr th {\n",
       "        vertical-align: top;\n",
       "    }\n",
       "\n",
       "    .dataframe thead th {\n",
       "        text-align: right;\n",
       "    }\n",
       "</style>\n",
       "<table border=\"1\" class=\"dataframe\">\n",
       "  <thead>\n",
       "    <tr style=\"text-align: right;\">\n",
       "      <th></th>\n",
       "      <th>Country</th>\n",
       "      <th>Year</th>\n",
       "      <th>rem_outflow_milusd</th>\n",
       "    </tr>\n",
       "    <tr>\n",
       "      <th>cy_ID</th>\n",
       "      <th></th>\n",
       "      <th></th>\n",
       "      <th></th>\n",
       "    </tr>\n",
       "  </thead>\n",
       "  <tbody>\n",
       "    <tr>\n",
       "      <th>Congo, Rep._2009</th>\n",
       "      <td>Congo, Rep.</td>\n",
       "      <td>2009</td>\n",
       "      <td>NaN</td>\n",
       "    </tr>\n",
       "    <tr>\n",
       "      <th>Sierra Leone_2013</th>\n",
       "      <td>Sierra Leone</td>\n",
       "      <td>2013</td>\n",
       "      <td>8.997559</td>\n",
       "    </tr>\n",
       "    <tr>\n",
       "      <th>Panama_2004</th>\n",
       "      <td>Panama</td>\n",
       "      <td>2004</td>\n",
       "      <td>72.300000</td>\n",
       "    </tr>\n",
       "    <tr>\n",
       "      <th>St. Vincent and the Grenadines_2014</th>\n",
       "      <td>St. Vincent and the Grenadines</td>\n",
       "      <td>2014</td>\n",
       "      <td>NaN</td>\n",
       "    </tr>\n",
       "    <tr>\n",
       "      <th>Bosnia and Herzegovina_2013</th>\n",
       "      <td>Bosnia and Herzegovina</td>\n",
       "      <td>2013</td>\n",
       "      <td>48.445049</td>\n",
       "    </tr>\n",
       "  </tbody>\n",
       "</table>\n",
       "</div>"
      ],
      "text/plain": [
       "                                                            Country  Year  \\\n",
       "cy_ID                                                                       \n",
       "Congo, Rep._2009                                        Congo, Rep.  2009   \n",
       "Sierra Leone_2013                                      Sierra Leone  2013   \n",
       "Panama_2004                                                  Panama  2004   \n",
       "St. Vincent and the Grenadines_2014  St. Vincent and the Grenadines  2014   \n",
       "Bosnia and Herzegovina_2013                  Bosnia and Herzegovina  2013   \n",
       "\n",
       "                                     rem_outflow_milusd  \n",
       "cy_ID                                                    \n",
       "Congo, Rep._2009                                    NaN  \n",
       "Sierra Leone_2013                              8.997559  \n",
       "Panama_2004                                   72.300000  \n",
       "St. Vincent and the Grenadines_2014                 NaN  \n",
       "Bosnia and Herzegovina_2013                   48.445049  "
      ]
     },
     "execution_count": 154,
     "metadata": {},
     "output_type": "execute_result"
    }
   ],
   "source": [
    "df_remout = df_remout.loc[:,'2004':'2015']\n",
    "df_remout.dropna(how='all', axis=0, inplace=True)\n",
    "df_remout.reset_index(inplace=True)\n",
    "df_remout = pd.melt(df_remout, id_vars=['Migrant remittance outflows (US$ million)'])\n",
    "df_remout = df_remout[df_remout['Migrant remittance outflows (US$ million)'] != 'World']\n",
    "df_remout.rename(columns={'Migrant remittance outflows (US$ million)':'Country', 'variable':'Year', 'value':'rem_outflow_milusd'},inplace=True)\n",
    "df_remout['cy_ID'] = df_remout['Country'] + '_' + df_remout['Year']\n",
    "df_remout.set_index('cy_ID', inplace=True)\n",
    "df_remout.sample(5)"
   ]
  },
  {
   "cell_type": "code",
   "execution_count": 155,
   "metadata": {
    "hidden": true
   },
   "outputs": [
    {
     "name": "stdout",
     "output_type": "stream",
     "text": [
      "<class 'pandas.core.frame.DataFrame'>\n",
      "Index: 2196 entries, Afghanistan_2004 to Zambia_2015\n",
      "Data columns (total 3 columns):\n",
      "Country               2196 non-null object\n",
      "Year                  2196 non-null object\n",
      "rem_outflow_milusd    2009 non-null float64\n",
      "dtypes: float64(1), object(2)\n",
      "memory usage: 68.6+ KB\n"
     ]
    }
   ],
   "source": [
    "df_remout.info()"
   ]
  },
  {
   "cell_type": "code",
   "execution_count": 16,
   "metadata": {
    "hidden": true
   },
   "outputs": [
    {
     "data": {
      "text/plain": [
       "221"
      ]
     },
     "execution_count": 16,
     "metadata": {},
     "output_type": "execute_result"
    }
   ],
   "source": [
    "# len(set(df_remout.iloc[:,1])) # countries"
   ]
  },
  {
   "cell_type": "code",
   "execution_count": 31,
   "metadata": {
    "hidden": true,
    "scrolled": true
   },
   "outputs": [
    {
     "data": {
      "text/plain": [
       "Index(['1970', '1971', '1972', '1973', '1974', '1975', '1976', '1977', '1978',\n",
       "       '1979', '1980', '1981', '1982', '1983', '1984', '1985', '1986', '1987',\n",
       "       '1988', '1989', '1990', '1991', '1992', '1993', '1994', '1995', '1996',\n",
       "       '1997', '1998', '1999', '2000', '2001', '2002', '2003', '2004', '2005',\n",
       "       '2006', '2007', '2008', '2009', '2010', '2011', '2012', '2013', '2014',\n",
       "       '2015', '2016'],\n",
       "      dtype='object')"
      ]
     },
     "execution_count": 31,
     "metadata": {},
     "output_type": "execute_result"
    }
   ],
   "source": [
    "# df.set_index(list(df.columns[[0,2]]))\n",
    "# df_remout.columns.str.strip()\n",
    "# df_remout.set_index(list(df_remout.columns[[0]]), inplace=True)\n",
    "# df_remout.drop('Unnamed: 0', axis=1, inplace=True)\n",
    "# df_remout.transpose().plot()\n",
    "# df_remout.index"
   ]
  },
  {
   "cell_type": "markdown",
   "metadata": {
    "heading_collapsed": true
   },
   "source": [
    "## World Bank: Major Contracts"
   ]
  },
  {
   "cell_type": "code",
   "execution_count": null,
   "metadata": {
    "hidden": true
   },
   "outputs": [],
   "source": [
    "# histograms\n",
    "# for col in df:\n",
    "#     if col != 'us_retail_wk_DPG':\n",
    "#         plt.hist(df[col])\n",
    "#         plt.title(df[col].name)\n",
    "#         plt.show()\n",
    "\n",
    "# regplots\n",
    "# for col in df.columns:\n",
    "#     sns.regplot(x=df.us_retail_wk_DPG, y=df[col], data=df, ci=95).set_title(col)\n",
    "#     plt.show()"
   ]
  },
  {
   "cell_type": "code",
   "execution_count": 124,
   "metadata": {
    "hidden": true
   },
   "outputs": [],
   "source": [
    "df_wbk = pd.read_csv('~/ds/metis/intdev_data/Major_Contract_Awards.csv')\n",
    "\n",
    "# drop unneeded columns\n",
    "df_wbk.drop(['As of Date', 'Borrower Contract Reference Number', 'WB Contract Number', 'Product line', 'Borrower Country Code'], axis=1, inplace=True)"
   ]
  },
  {
   "cell_type": "code",
   "execution_count": 50,
   "metadata": {
    "hidden": true
   },
   "outputs": [],
   "source": [
    "# Filter for Central America contracts only (10k+) & 2004-2015\n",
    "df_wbk_ca = df_wbk.loc[df_wbk['Borrower Country'].isin(central_am_countries) & (df_wbk['Fiscal Year'] > 2003) & (df_wbk['Fiscal Year'] < 2016)]"
   ]
  },
  {
   "cell_type": "code",
   "execution_count": 51,
   "metadata": {
    "hidden": true,
    "scrolled": false
   },
   "outputs": [
    {
     "name": "stderr",
     "output_type": "stream",
     "text": [
      "/Users/jas/anaconda3/lib/python3.6/site-packages/ipykernel_launcher.py:3: SettingWithCopyWarning: \n",
      "A value is trying to be set on a copy of a slice from a DataFrame.\n",
      "Try using .loc[row_indexer,col_indexer] = value instead\n",
      "\n",
      "See the caveats in the documentation: http://pandas.pydata.org/pandas-docs/stable/indexing.html#indexing-view-versus-copy\n",
      "  This is separate from the ipykernel package so we can avoid doing imports until\n",
      "/Users/jas/anaconda3/lib/python3.6/site-packages/ipykernel_launcher.py:4: SettingWithCopyWarning: \n",
      "A value is trying to be set on a copy of a slice from a DataFrame\n",
      "\n",
      "See the caveats in the documentation: http://pandas.pydata.org/pandas-docs/stable/indexing.html#indexing-view-versus-copy\n",
      "  after removing the cwd from sys.path.\n",
      "/Users/jas/anaconda3/lib/python3.6/site-packages/ipykernel_launcher.py:8: SettingWithCopyWarning: \n",
      "A value is trying to be set on a copy of a slice from a DataFrame.\n",
      "Try using .loc[row_indexer,col_indexer] = value instead\n",
      "\n",
      "See the caveats in the documentation: http://pandas.pydata.org/pandas-docs/stable/indexing.html#indexing-view-versus-copy\n",
      "  \n",
      "/Users/jas/anaconda3/lib/python3.6/site-packages/ipykernel_launcher.py:11: SettingWithCopyWarning: \n",
      "A value is trying to be set on a copy of a slice from a DataFrame.\n",
      "Try using .loc[row_indexer,col_indexer] = value instead\n",
      "\n",
      "See the caveats in the documentation: http://pandas.pydata.org/pandas-docs/stable/indexing.html#indexing-view-versus-copy\n",
      "  # This is added back by InteractiveShellApp.init_path()\n"
     ]
    }
   ],
   "source": [
    "# df_wbk_ca['Procurement Type'] = df_wbk_ca['Procurement Type'].astype('category')\n",
    "# df_wbk_ca['Fiscal Year'] = pd.to_datetime(df_wbk_ca['Fiscal Year'], format='%d-%b- %Y', errors='coerce')\n",
    "df_wbk_ca['Fiscal Year'] = df_wbk_ca['Fiscal Year'].astype(str)\n",
    "df_wbk_ca.sort_values('Fiscal Year', inplace=True)\n",
    "\n",
    "# Convert contract values to numeric\n",
    "total_k_val_list = list(df_wbk_ca['Total Contract Amount (USD)'].replace('[\\$,]', '', regex=True).astype(float))\n",
    "df_wbk_ca['total_k_val'] = total_k_val_list\n",
    "\n",
    "# Create unique country_year id\n",
    "df_wbk_ca['cy_id_ks'] = df_wbk_ca['Borrower Country'] + '_' + df_wbk_ca['Fiscal Year']"
   ]
  },
  {
   "cell_type": "code",
   "execution_count": 52,
   "metadata": {
    "hidden": true
   },
   "outputs": [],
   "source": [
    "df_wbk_ca.set_index('cy_id_ks', inplace=True)"
   ]
  },
  {
   "cell_type": "code",
   "execution_count": 45,
   "metadata": {
    "hidden": true
   },
   "outputs": [],
   "source": [
    "# groupby and organize\n",
    "# df_wbk_ca.groupby(['Borrower Country', 'Fiscal Year']).sum()"
   ]
  },
  {
   "cell_type": "markdown",
   "metadata": {
    "heading_collapsed": true
   },
   "source": [
    "## World Countries (master list)"
   ]
  },
  {
   "cell_type": "code",
   "execution_count": 35,
   "metadata": {
    "hidden": true
   },
   "outputs": [
    {
     "data": {
      "text/html": [
       "<div>\n",
       "<style scoped>\n",
       "    .dataframe tbody tr th:only-of-type {\n",
       "        vertical-align: middle;\n",
       "    }\n",
       "\n",
       "    .dataframe tbody tr th {\n",
       "        vertical-align: top;\n",
       "    }\n",
       "\n",
       "    .dataframe thead th {\n",
       "        text-align: right;\n",
       "    }\n",
       "</style>\n",
       "<table border=\"1\" class=\"dataframe\">\n",
       "  <thead>\n",
       "    <tr style=\"text-align: right;\">\n",
       "      <th></th>\n",
       "      <th>Name</th>\n",
       "      <th>Code</th>\n",
       "    </tr>\n",
       "  </thead>\n",
       "  <tbody>\n",
       "    <tr>\n",
       "      <th>0</th>\n",
       "      <td>Afghanistan</td>\n",
       "      <td>AF</td>\n",
       "    </tr>\n",
       "    <tr>\n",
       "      <th>1</th>\n",
       "      <td>Åland Islands</td>\n",
       "      <td>AX</td>\n",
       "    </tr>\n",
       "    <tr>\n",
       "      <th>2</th>\n",
       "      <td>Albania</td>\n",
       "      <td>AL</td>\n",
       "    </tr>\n",
       "    <tr>\n",
       "      <th>3</th>\n",
       "      <td>Algeria</td>\n",
       "      <td>DZ</td>\n",
       "    </tr>\n",
       "    <tr>\n",
       "      <th>4</th>\n",
       "      <td>American Samoa</td>\n",
       "      <td>AS</td>\n",
       "    </tr>\n",
       "  </tbody>\n",
       "</table>\n",
       "</div>"
      ],
      "text/plain": [
       "             Name Code\n",
       "0     Afghanistan   AF\n",
       "1   Åland Islands   AX\n",
       "2         Albania   AL\n",
       "3         Algeria   DZ\n",
       "4  American Samoa   AS"
      ]
     },
     "execution_count": 35,
     "metadata": {},
     "output_type": "execute_result"
    }
   ],
   "source": [
    "# df_countries = pd.read_csv('https://raw.githubusercontent.com/datasets/country-list/master/data.csv')\n",
    "# df_countries.to_pickle('int_dev_data/countries.pkl')\n",
    "df_countries = pd.read_pickle('int_dev_data/countries.pkl')\n",
    "\n",
    "df_countries.head()"
   ]
  },
  {
   "cell_type": "code",
   "execution_count": 36,
   "metadata": {
    "hidden": true
   },
   "outputs": [],
   "source": [
    "# limit to Central America\n",
    "df_countries_ca = df_countries.loc[(df_countries['Name'].isin(central_am_countries))]"
   ]
  },
  {
   "cell_type": "code",
   "execution_count": 117,
   "metadata": {
    "hidden": true
   },
   "outputs": [],
   "source": [
    "# unique IDs Master List\n",
    "cy_ids_tuplist = [(country+'_2004', country+'_2005', country+'_2006', country+'_2007', country+'_2008',\n",
    "                country+'_2009', country+'_2010', country+'_2011', country+'_2012', country+'_2013',\n",
    "                country+'_2014', country+'_2015') for country in df_countries_ca.Name]\n",
    "# flatten list (prior list comp creats list of tuples)\n",
    "cy_ids_list = list(itertools.chain(*cy_ids_tuplist))\n",
    "# convert to dataframe, prepare for join\n",
    "df_cy_id = pd.DataFrame(cy_ids_list)\n",
    "df_cy_id.rename(columns={0:'cy_id'}, inplace=True)\n",
    "df_cy_id.set_index('cy_id', inplace=True)"
   ]
  },
  {
   "cell_type": "code",
   "execution_count": 118,
   "metadata": {
    "hidden": true
   },
   "outputs": [
    {
     "data": {
      "text/html": [
       "<div>\n",
       "<style scoped>\n",
       "    .dataframe tbody tr th:only-of-type {\n",
       "        vertical-align: middle;\n",
       "    }\n",
       "\n",
       "    .dataframe tbody tr th {\n",
       "        vertical-align: top;\n",
       "    }\n",
       "\n",
       "    .dataframe thead th {\n",
       "        text-align: right;\n",
       "    }\n",
       "</style>\n",
       "<table border=\"1\" class=\"dataframe\">\n",
       "  <thead>\n",
       "    <tr style=\"text-align: right;\">\n",
       "      <th></th>\n",
       "    </tr>\n",
       "    <tr>\n",
       "      <th>cy_id</th>\n",
       "    </tr>\n",
       "  </thead>\n",
       "  <tbody>\n",
       "    <tr>\n",
       "      <th>Belize_2004</th>\n",
       "    </tr>\n",
       "    <tr>\n",
       "      <th>Belize_2005</th>\n",
       "    </tr>\n",
       "    <tr>\n",
       "      <th>Belize_2006</th>\n",
       "    </tr>\n",
       "    <tr>\n",
       "      <th>Belize_2007</th>\n",
       "    </tr>\n",
       "    <tr>\n",
       "      <th>Belize_2008</th>\n",
       "    </tr>\n",
       "  </tbody>\n",
       "</table>\n",
       "</div>"
      ],
      "text/plain": [
       "Empty DataFrame\n",
       "Columns: []\n",
       "Index: [Belize_2004, Belize_2005, Belize_2006, Belize_2007, Belize_2008]"
      ]
     },
     "execution_count": 118,
     "metadata": {},
     "output_type": "execute_result"
    }
   ],
   "source": [
    "df_cy_id.head()"
   ]
  },
  {
   "cell_type": "markdown",
   "metadata": {
    "heading_collapsed": true
   },
   "source": [
    "## World Bank: Individual Loans\n",
    "- only includes Turkey, China, Indo... "
   ]
  },
  {
   "cell_type": "code",
   "execution_count": 67,
   "metadata": {
    "hidden": true
   },
   "outputs": [
    {
     "name": "stdout",
     "output_type": "stream",
     "text": [
      "<class 'pandas.core.frame.DataFrame'>\n",
      "RangeIndex: 2132 entries, 0 to 2131\n",
      "Data columns (total 33 columns):\n",
      "End of Period                   2132 non-null object\n",
      "Loan Number                     2132 non-null object\n",
      "Region                          2132 non-null object\n",
      "Country Code                    2132 non-null object\n",
      "Country                         2132 non-null object\n",
      "Borrower                        2132 non-null object\n",
      "Guarantor Country Code          2132 non-null object\n",
      "Guarantor                       2132 non-null object\n",
      "Loan Type                       2132 non-null object\n",
      "Loan Status                     2132 non-null object\n",
      "Interest Rate                   2118 non-null float64\n",
      "Currency of Commitment          0 non-null float64\n",
      "Project ID                      2132 non-null object\n",
      "Project Name                    2132 non-null object\n",
      "Original Principal Amount       2132 non-null object\n",
      "Cancelled Amount                2132 non-null object\n",
      "Undisbursed Amount              2132 non-null object\n",
      "Disbursed Amount                2132 non-null object\n",
      "Repaid to IBRD                  2132 non-null object\n",
      "Due to IBRD                     2132 non-null object\n",
      "Exchange Adjustment             2132 non-null object\n",
      "Borrower's Obligation           2132 non-null object\n",
      "Sold 3rd Party                  2132 non-null object\n",
      "Repaid 3rd Party                2132 non-null object\n",
      "Due 3rd Party                   2132 non-null object\n",
      "Loans Held                      2132 non-null object\n",
      "First Repayment Date            2131 non-null object\n",
      "Last Repayment Date             2131 non-null object\n",
      "Agreement Signing Date          2111 non-null object\n",
      "Board Approval Date             2132 non-null object\n",
      "Effective Date (Most Recent)    2121 non-null object\n",
      "Closed Date (Most Recent)       2131 non-null object\n",
      "Last Disbursement Date          1451 non-null object\n",
      "dtypes: float64(2), object(31)\n",
      "memory usage: 549.7+ KB\n"
     ]
    }
   ],
   "source": [
    "def loans_read(file_name):\n",
    "    df_wbl = pd.read_csv(file_name)\n",
    "    return(df_wbl.info())\n",
    "    \n",
    "# loans_read('int_dev_data/Individual_Loans.csv')"
   ]
  },
  {
   "cell_type": "code",
   "execution_count": null,
   "metadata": {
    "hidden": true
   },
   "outputs": [],
   "source": []
  },
  {
   "cell_type": "markdown",
   "metadata": {},
   "source": [
    "# Data Consolidation / Unique IDs"
   ]
  },
  {
   "cell_type": "markdown",
   "metadata": {},
   "source": [
    "## Unique_ID (country + year)\n",
    "- Must determine if all country_year exist in list. Set up clean index with all country/year combos and build from there.\n",
    "### 1st, sum WB contracts per year. Later break them out by sector... Need to get into modeling"
   ]
  },
  {
   "cell_type": "code",
   "execution_count": 119,
   "metadata": {},
   "outputs": [],
   "source": [
    "# df_wdi_wbk = 1\n",
    "df_wdi_wbk = df_cy_id.join([df_wdi_ca, df_wbk_ca])\n",
    "# df_wdi_wbk.set_index('0', inplace=True)"
   ]
  },
  {
   "cell_type": "code",
   "execution_count": 120,
   "metadata": {},
   "outputs": [
    {
     "data": {
      "text/plain": [
       "Index(['Belize_2004', 'Belize_2004', 'Belize_2004', 'Belize_2004',\n",
       "       'Belize_2004', 'Belize_2004', 'Belize_2004', 'Belize_2004',\n",
       "       'Belize_2004', 'Belize_2004',\n",
       "       ...\n",
       "       'Panama_2015', 'Panama_2015', 'Panama_2015', 'Panama_2015',\n",
       "       'Panama_2015', 'Panama_2015', 'Panama_2015', 'Panama_2015',\n",
       "       'Panama_2015', 'Panama_2015'],\n",
       "      dtype='object', length=9272)"
      ]
     },
     "execution_count": 120,
     "metadata": {},
     "output_type": "execute_result"
    }
   ],
   "source": [
    "df_wdi_wbk.index"
   ]
  },
  {
   "cell_type": "code",
   "execution_count": 122,
   "metadata": {},
   "outputs": [
    {
     "data": {
      "text/html": [
       "<div>\n",
       "<style scoped>\n",
       "    .dataframe tbody tr th:only-of-type {\n",
       "        vertical-align: middle;\n",
       "    }\n",
       "\n",
       "    .dataframe tbody tr th {\n",
       "        vertical-align: top;\n",
       "    }\n",
       "\n",
       "    .dataframe thead th {\n",
       "        text-align: right;\n",
       "    }\n",
       "</style>\n",
       "<table border=\"1\" class=\"dataframe\">\n",
       "  <thead>\n",
       "    <tr style=\"text-align: right;\">\n",
       "      <th></th>\n",
       "      <th>Adolescent fertility rate (births per 1,000 women ages 15-19)</th>\n",
       "      <th>Age dependency ratio (% of working-age population)</th>\n",
       "      <th>Age dependency ratio, old (% of working-age population)</th>\n",
       "      <th>Age dependency ratio, young (% of working-age population)</th>\n",
       "      <th>Agricultural raw materials exports (% of merchandise exports)</th>\n",
       "      <th>Agricultural raw materials imports (% of merchandise imports)</th>\n",
       "      <th>Agriculture value added per worker (constant 2005 US$)</th>\n",
       "      <th>Agriculture, value added (% of GDP)</th>\n",
       "      <th>Agriculture, value added (annual % growth)</th>\n",
       "      <th>Agriculture, value added (constant 2005 US$)</th>\n",
       "      <th>...</th>\n",
       "      <th>Procurement Category</th>\n",
       "      <th>Procurement Method</th>\n",
       "      <th>Major Sector</th>\n",
       "      <th>Contract Description</th>\n",
       "      <th>Contract Signing Date</th>\n",
       "      <th>Supplier</th>\n",
       "      <th>Supplier Country</th>\n",
       "      <th>Supplier Country Code</th>\n",
       "      <th>Total Contract Amount (USD)</th>\n",
       "      <th>total_k_val</th>\n",
       "    </tr>\n",
       "  </thead>\n",
       "  <tbody>\n",
       "    <tr>\n",
       "      <th>Guatemala_2012</th>\n",
       "      <td>84.0360</td>\n",
       "      <td>74.496429</td>\n",
       "      <td>8.036669</td>\n",
       "      <td>66.459759</td>\n",
       "      <td>4.376754</td>\n",
       "      <td>1.422494</td>\n",
       "      <td>1937.565776</td>\n",
       "      <td>11.240906</td>\n",
       "      <td>4.939453</td>\n",
       "      <td>4.161891e+09</td>\n",
       "      <td>...</td>\n",
       "      <td>NON-CONSULTING SERVICES</td>\n",
       "      <td>International Competitive Bidding</td>\n",
       "      <td>Education</td>\n",
       "      <td>Contrato de servicios de impresión y embalaje ...</td>\n",
       "      <td>08/06/2012 12:00:00 AM</td>\n",
       "      <td>EDITORA EDUCATIVA</td>\n",
       "      <td>Guatemala</td>\n",
       "      <td>GT</td>\n",
       "      <td>$534802.46</td>\n",
       "      <td>534802.46</td>\n",
       "    </tr>\n",
       "    <tr>\n",
       "      <th>Honduras_2013</th>\n",
       "      <td>67.0488</td>\n",
       "      <td>61.250546</td>\n",
       "      <td>7.473739</td>\n",
       "      <td>53.776807</td>\n",
       "      <td>NaN</td>\n",
       "      <td>NaN</td>\n",
       "      <td>2569.189989</td>\n",
       "      <td>13.116300</td>\n",
       "      <td>3.440072</td>\n",
       "      <td>1.698235e+09</td>\n",
       "      <td>...</td>\n",
       "      <td>CONSULTANT SERVICES</td>\n",
       "      <td>Individual Consultant</td>\n",
       "      <td>(Historic)Health and other social services</td>\n",
       "      <td>Coordinator for the Safer Municipality Project</td>\n",
       "      <td>05/23/2013 12:00:00 AM</td>\n",
       "      <td>HUMBERTO RODRIGUEZ ESCOBAR</td>\n",
       "      <td>Honduras</td>\n",
       "      <td>HN</td>\n",
       "      <td>$27952.35</td>\n",
       "      <td>27952.35</td>\n",
       "    </tr>\n",
       "    <tr>\n",
       "      <th>Nicaragua_2015</th>\n",
       "      <td>NaN</td>\n",
       "      <td>NaN</td>\n",
       "      <td>NaN</td>\n",
       "      <td>NaN</td>\n",
       "      <td>NaN</td>\n",
       "      <td>NaN</td>\n",
       "      <td>NaN</td>\n",
       "      <td>NaN</td>\n",
       "      <td>NaN</td>\n",
       "      <td>NaN</td>\n",
       "      <td>...</td>\n",
       "      <td>CONSULTANT SERVICES</td>\n",
       "      <td>Single Source Selection</td>\n",
       "      <td>Water, Sanitation and Waste Management</td>\n",
       "      <td>Actualizar los datos Hidrogeologico con la pru...</td>\n",
       "      <td>02/10/2015 12:00:00 AM</td>\n",
       "      <td>JUAN CARLOS VALLE ASCENCIO</td>\n",
       "      <td>Nicaragua</td>\n",
       "      <td>NI</td>\n",
       "      <td>$5300.00</td>\n",
       "      <td>5300.00</td>\n",
       "    </tr>\n",
       "    <tr>\n",
       "      <th>Honduras_2011</th>\n",
       "      <td>71.5636</td>\n",
       "      <td>65.342451</td>\n",
       "      <td>7.402193</td>\n",
       "      <td>57.940259</td>\n",
       "      <td>1.146882</td>\n",
       "      <td>0.979036</td>\n",
       "      <td>2237.253648</td>\n",
       "      <td>15.299201</td>\n",
       "      <td>6.484274</td>\n",
       "      <td>1.483299e+09</td>\n",
       "      <td>...</td>\n",
       "      <td>CONSULTANT SERVICES</td>\n",
       "      <td>Least Cost Selection</td>\n",
       "      <td>Water, Sanitation and Waste Management</td>\n",
       "      <td>Phase II: Design &amp; implementation of advertisi...</td>\n",
       "      <td>09/16/2011 12:00:00 AM</td>\n",
       "      <td>PUBLICIDAD COMERCIAL S.A</td>\n",
       "      <td>Honduras</td>\n",
       "      <td>HN</td>\n",
       "      <td>$181322.03</td>\n",
       "      <td>181322.03</td>\n",
       "    </tr>\n",
       "    <tr>\n",
       "      <th>Honduras_2005</th>\n",
       "      <td>90.4212</td>\n",
       "      <td>77.970128</td>\n",
       "      <td>7.393766</td>\n",
       "      <td>70.576362</td>\n",
       "      <td>3.003968</td>\n",
       "      <td>0.763710</td>\n",
       "      <td>1779.044684</td>\n",
       "      <td>13.652371</td>\n",
       "      <td>-2.293856</td>\n",
       "      <td>1.206192e+09</td>\n",
       "      <td>...</td>\n",
       "      <td>CONSULTANT SERVICES</td>\n",
       "      <td>Individual Consultant</td>\n",
       "      <td>Financial Sector</td>\n",
       "      <td>ASISTENTE ADMINISTRATIVO DE LA UCP</td>\n",
       "      <td>02/15/2005 12:00:00 AM</td>\n",
       "      <td>DILCIA ENRIQUETA ROMERO BANEGAS</td>\n",
       "      <td>Honduras</td>\n",
       "      <td>HN</td>\n",
       "      <td>$1152.99</td>\n",
       "      <td>1152.99</td>\n",
       "    </tr>\n",
       "    <tr>\n",
       "      <th>Honduras_2012</th>\n",
       "      <td>68.4390</td>\n",
       "      <td>63.264970</td>\n",
       "      <td>7.428029</td>\n",
       "      <td>55.836940</td>\n",
       "      <td>0.994480</td>\n",
       "      <td>0.940952</td>\n",
       "      <td>2479.995409</td>\n",
       "      <td>14.606969</td>\n",
       "      <td>10.682794</td>\n",
       "      <td>1.641757e+09</td>\n",
       "      <td>...</td>\n",
       "      <td>CONSULTANT SERVICES</td>\n",
       "      <td>Individual Consultant</td>\n",
       "      <td>Public Administration</td>\n",
       "      <td>The objective is to strengthen the beneficiary...</td>\n",
       "      <td>04/09/2012 12:00:00 AM</td>\n",
       "      <td>MARLENE ALEJANDRA RODRIGUEZ ZERON</td>\n",
       "      <td>Honduras</td>\n",
       "      <td>HN</td>\n",
       "      <td>$6848.60</td>\n",
       "      <td>6848.60</td>\n",
       "    </tr>\n",
       "    <tr>\n",
       "      <th>Guatemala_2014</th>\n",
       "      <td>81.4040</td>\n",
       "      <td>72.069718</td>\n",
       "      <td>8.195788</td>\n",
       "      <td>63.873930</td>\n",
       "      <td>2.991924</td>\n",
       "      <td>1.237303</td>\n",
       "      <td>2011.426967</td>\n",
       "      <td>11.518951</td>\n",
       "      <td>3.677177</td>\n",
       "      <td>4.519676e+09</td>\n",
       "      <td>...</td>\n",
       "      <td>CONSULTANT SERVICES</td>\n",
       "      <td>Single Source Selection</td>\n",
       "      <td>Public Administration</td>\n",
       "      <td>Information Technology Specialist</td>\n",
       "      <td>04/15/2014 12:00:00 AM</td>\n",
       "      <td>JUAN CARLOS GARCIA ARCHILA</td>\n",
       "      <td>Guatemala</td>\n",
       "      <td>GT</td>\n",
       "      <td>$6182.78</td>\n",
       "      <td>6182.78</td>\n",
       "    </tr>\n",
       "    <tr>\n",
       "      <th>Guatemala_2015</th>\n",
       "      <td>NaN</td>\n",
       "      <td>NaN</td>\n",
       "      <td>NaN</td>\n",
       "      <td>NaN</td>\n",
       "      <td>NaN</td>\n",
       "      <td>NaN</td>\n",
       "      <td>NaN</td>\n",
       "      <td>NaN</td>\n",
       "      <td>NaN</td>\n",
       "      <td>NaN</td>\n",
       "      <td>...</td>\n",
       "      <td>CONSULTANT SERVICES</td>\n",
       "      <td>Single Source Selection</td>\n",
       "      <td>Public Administration</td>\n",
       "      <td>Registry Information Analyst</td>\n",
       "      <td>08/12/2014 12:00:00 AM</td>\n",
       "      <td>DAVID JONATHAN BANOS SALGUERO</td>\n",
       "      <td>Guatemala</td>\n",
       "      <td>GT</td>\n",
       "      <td>$3829.22</td>\n",
       "      <td>3829.22</td>\n",
       "    </tr>\n",
       "    <tr>\n",
       "      <th>Honduras_2005</th>\n",
       "      <td>90.4212</td>\n",
       "      <td>77.970128</td>\n",
       "      <td>7.393766</td>\n",
       "      <td>70.576362</td>\n",
       "      <td>3.003968</td>\n",
       "      <td>0.763710</td>\n",
       "      <td>1779.044684</td>\n",
       "      <td>13.652371</td>\n",
       "      <td>-2.293856</td>\n",
       "      <td>1.206192e+09</td>\n",
       "      <td>...</td>\n",
       "      <td>CONSULTANT SERVICES</td>\n",
       "      <td>Individual Consultant</td>\n",
       "      <td>Financial Sector</td>\n",
       "      <td>CONSULTOR INTERNACIONAL PARA EL FORTALECIMIENT...</td>\n",
       "      <td>08/16/2004 12:00:00 AM</td>\n",
       "      <td>NORBERTO GARCIA</td>\n",
       "      <td>Honduras</td>\n",
       "      <td>HN</td>\n",
       "      <td>$1804.50</td>\n",
       "      <td>1804.50</td>\n",
       "    </tr>\n",
       "    <tr>\n",
       "      <th>El Salvador_2014</th>\n",
       "      <td>65.5554</td>\n",
       "      <td>55.294848</td>\n",
       "      <td>12.409846</td>\n",
       "      <td>42.885003</td>\n",
       "      <td>0.889645</td>\n",
       "      <td>1.866755</td>\n",
       "      <td>3583.028996</td>\n",
       "      <td>11.415567</td>\n",
       "      <td>1.614005</td>\n",
       "      <td>2.024411e+09</td>\n",
       "      <td>...</td>\n",
       "      <td>CONSULTANT SERVICES</td>\n",
       "      <td>Individual Consultant</td>\n",
       "      <td>Public Administration</td>\n",
       "      <td>RECRUITMENT FOR INFORMATION SURVEY PARTICIPANT...</td>\n",
       "      <td>08/22/2013 12:00:00 AM</td>\n",
       "      <td>JUAN ANTONIO GARCIA BELTRAN</td>\n",
       "      <td>El Salvador</td>\n",
       "      <td>SV</td>\n",
       "      <td>$790.00</td>\n",
       "      <td>790.00</td>\n",
       "    </tr>\n",
       "    <tr>\n",
       "      <th>Nicaragua_2012</th>\n",
       "      <td>92.7840</td>\n",
       "      <td>57.388317</td>\n",
       "      <td>7.602746</td>\n",
       "      <td>49.785571</td>\n",
       "      <td>0.823813</td>\n",
       "      <td>0.720484</td>\n",
       "      <td>3661.543492</td>\n",
       "      <td>19.852996</td>\n",
       "      <td>-2.605073</td>\n",
       "      <td>1.255909e+09</td>\n",
       "      <td>...</td>\n",
       "      <td>CIVIL WORKS</td>\n",
       "      <td>Direct Contracting</td>\n",
       "      <td>Transportation</td>\n",
       "      <td>paving works of road section: Jinotega, sectio...</td>\n",
       "      <td>12/13/2011 12:00:00 AM</td>\n",
       "      <td>MODULO COMUNITARIO DE ADOQUINADO NO.12</td>\n",
       "      <td>Nicaragua</td>\n",
       "      <td>NI</td>\n",
       "      <td>$218436.52</td>\n",
       "      <td>218436.52</td>\n",
       "    </tr>\n",
       "    <tr>\n",
       "      <th>Nicaragua_2011</th>\n",
       "      <td>95.1680</td>\n",
       "      <td>58.737309</td>\n",
       "      <td>7.600702</td>\n",
       "      <td>51.136607</td>\n",
       "      <td>1.607946</td>\n",
       "      <td>0.687935</td>\n",
       "      <td>3716.143742</td>\n",
       "      <td>20.927150</td>\n",
       "      <td>5.606395</td>\n",
       "      <td>1.289502e+09</td>\n",
       "      <td>...</td>\n",
       "      <td>GOODS</td>\n",
       "      <td>National Competitive Bidding</td>\n",
       "      <td>Water, Sanitation and Waste Management</td>\n",
       "      <td>construction equipment, safety equipment &amp; too...</td>\n",
       "      <td>04/11/2011 12:00:00 AM</td>\n",
       "      <td>SISTEMAS DE SEGURIDAD BUHLER S.A</td>\n",
       "      <td>Nicaragua</td>\n",
       "      <td>NI</td>\n",
       "      <td>$151051.22</td>\n",
       "      <td>151051.22</td>\n",
       "    </tr>\n",
       "    <tr>\n",
       "      <th>Nicaragua_2015</th>\n",
       "      <td>NaN</td>\n",
       "      <td>NaN</td>\n",
       "      <td>NaN</td>\n",
       "      <td>NaN</td>\n",
       "      <td>NaN</td>\n",
       "      <td>NaN</td>\n",
       "      <td>NaN</td>\n",
       "      <td>NaN</td>\n",
       "      <td>NaN</td>\n",
       "      <td>NaN</td>\n",
       "      <td>...</td>\n",
       "      <td>GOODS</td>\n",
       "      <td>RFB</td>\n",
       "      <td>Education</td>\n",
       "      <td>Contract LPI NO PAESE II 212 LIP B - Purchase ...</td>\n",
       "      <td>04/11/2016 12:00:00 AM</td>\n",
       "      <td>ANDREA DEL CARMEN VELASQUEZ GAITAN</td>\n",
       "      <td>Nicaragua</td>\n",
       "      <td>NI</td>\n",
       "      <td>$594130.36</td>\n",
       "      <td>594130.36</td>\n",
       "    </tr>\n",
       "    <tr>\n",
       "      <th>Honduras_2015</th>\n",
       "      <td>NaN</td>\n",
       "      <td>NaN</td>\n",
       "      <td>NaN</td>\n",
       "      <td>NaN</td>\n",
       "      <td>NaN</td>\n",
       "      <td>NaN</td>\n",
       "      <td>NaN</td>\n",
       "      <td>NaN</td>\n",
       "      <td>NaN</td>\n",
       "      <td>NaN</td>\n",
       "      <td>...</td>\n",
       "      <td>CONSULTANT SERVICES</td>\n",
       "      <td>Individual Consultant</td>\n",
       "      <td>Energy and Extractives</td>\n",
       "      <td>Finance specialist to work with communities</td>\n",
       "      <td>12/31/2014 12:00:00 AM</td>\n",
       "      <td>VALENTINA SU LOPEZ</td>\n",
       "      <td>Honduras</td>\n",
       "      <td>HN</td>\n",
       "      <td>NaN</td>\n",
       "      <td>NaN</td>\n",
       "    </tr>\n",
       "    <tr>\n",
       "      <th>El Salvador_2013</th>\n",
       "      <td>66.1952</td>\n",
       "      <td>56.531230</td>\n",
       "      <td>12.240070</td>\n",
       "      <td>44.291160</td>\n",
       "      <td>0.926382</td>\n",
       "      <td>1.755974</td>\n",
       "      <td>3489.065262</td>\n",
       "      <td>11.003419</td>\n",
       "      <td>-0.442102</td>\n",
       "      <td>1.992256e+09</td>\n",
       "      <td>...</td>\n",
       "      <td>CONSULTANT SERVICES</td>\n",
       "      <td>Individual Consultant</td>\n",
       "      <td>Agriculture, Fishing and Forestry</td>\n",
       "      <td>Financial Specialist</td>\n",
       "      <td>01/17/2013 12:00:00 AM</td>\n",
       "      <td>MARIA ANGELICA PEREZ DE LUNA</td>\n",
       "      <td>El Salvador</td>\n",
       "      <td>SV</td>\n",
       "      <td>$33600.00</td>\n",
       "      <td>33600.00</td>\n",
       "    </tr>\n",
       "    <tr>\n",
       "      <th>Nicaragua_2008</th>\n",
       "      <td>102.3200</td>\n",
       "      <td>62.681782</td>\n",
       "      <td>7.441922</td>\n",
       "      <td>55.239860</td>\n",
       "      <td>0.581072</td>\n",
       "      <td>0.339050</td>\n",
       "      <td>3221.442532</td>\n",
       "      <td>17.359838</td>\n",
       "      <td>-0.491368</td>\n",
       "      <td>1.159719e+09</td>\n",
       "      <td>...</td>\n",
       "      <td>CONSULTANT SERVICES</td>\n",
       "      <td>Individual Consultant</td>\n",
       "      <td>Public Administration</td>\n",
       "      <td>A consultant was hired to work as Economic and...</td>\n",
       "      <td>02/11/2008 12:00:00 AM</td>\n",
       "      <td>MARIA DOLORES SEVILLA BOZA</td>\n",
       "      <td>Nicaragua</td>\n",
       "      <td>NI</td>\n",
       "      <td>$67456.08</td>\n",
       "      <td>67456.08</td>\n",
       "    </tr>\n",
       "    <tr>\n",
       "      <th>Guatemala_2014</th>\n",
       "      <td>81.4040</td>\n",
       "      <td>72.069718</td>\n",
       "      <td>8.195788</td>\n",
       "      <td>63.873930</td>\n",
       "      <td>2.991924</td>\n",
       "      <td>1.237303</td>\n",
       "      <td>2011.426967</td>\n",
       "      <td>11.518951</td>\n",
       "      <td>3.677177</td>\n",
       "      <td>4.519676e+09</td>\n",
       "      <td>...</td>\n",
       "      <td>GOODS</td>\n",
       "      <td>International Competitive Bidding</td>\n",
       "      <td>Education</td>\n",
       "      <td>Endowment of 14,022 school desks and 1,405 wri...</td>\n",
       "      <td>10/25/2013 12:00:00 AM</td>\n",
       "      <td>IMVERSA S.A.</td>\n",
       "      <td>Guatemala</td>\n",
       "      <td>GT</td>\n",
       "      <td>$560930.97</td>\n",
       "      <td>560930.97</td>\n",
       "    </tr>\n",
       "    <tr>\n",
       "      <th>El Salvador_2014</th>\n",
       "      <td>65.5554</td>\n",
       "      <td>55.294848</td>\n",
       "      <td>12.409846</td>\n",
       "      <td>42.885003</td>\n",
       "      <td>0.889645</td>\n",
       "      <td>1.866755</td>\n",
       "      <td>3583.028996</td>\n",
       "      <td>11.415567</td>\n",
       "      <td>1.614005</td>\n",
       "      <td>2.024411e+09</td>\n",
       "      <td>...</td>\n",
       "      <td>CONSULTANT SERVICES</td>\n",
       "      <td>Single Source Selection</td>\n",
       "      <td>Agriculture, Fishing and Forestry</td>\n",
       "      <td>Technical support for monitoring processes Par...</td>\n",
       "      <td>01/01/2014 12:00:00 AM</td>\n",
       "      <td>DAYSI NOHEMY ALVAREZ AGUILAR</td>\n",
       "      <td>El Salvador</td>\n",
       "      <td>SV</td>\n",
       "      <td>$24000.00</td>\n",
       "      <td>24000.00</td>\n",
       "    </tr>\n",
       "    <tr>\n",
       "      <th>Guatemala_2005</th>\n",
       "      <td>97.6154</td>\n",
       "      <td>84.074539</td>\n",
       "      <td>7.816662</td>\n",
       "      <td>76.257877</td>\n",
       "      <td>3.281080</td>\n",
       "      <td>1.208389</td>\n",
       "      <td>1785.092215</td>\n",
       "      <td>13.383536</td>\n",
       "      <td>2.127162</td>\n",
       "      <td>3.372039e+09</td>\n",
       "      <td>...</td>\n",
       "      <td>CIVIL WORKS</td>\n",
       "      <td>International Competitive Bidding</td>\n",
       "      <td>Education</td>\n",
       "      <td>CONVERT TO DIGITAL IMAGES 700,00 DOCUMENTS AND...</td>\n",
       "      <td>11/16/2004 12:00:00 AM</td>\n",
       "      <td>INFILE S.A.</td>\n",
       "      <td>Guatemala</td>\n",
       "      <td>GT</td>\n",
       "      <td>$65363.96</td>\n",
       "      <td>65363.96</td>\n",
       "    </tr>\n",
       "    <tr>\n",
       "      <th>Honduras_2014</th>\n",
       "      <td>65.6586</td>\n",
       "      <td>59.400971</td>\n",
       "      <td>7.548906</td>\n",
       "      <td>51.852065</td>\n",
       "      <td>NaN</td>\n",
       "      <td>NaN</td>\n",
       "      <td>2647.068157</td>\n",
       "      <td>13.806198</td>\n",
       "      <td>2.719491</td>\n",
       "      <td>1.744418e+09</td>\n",
       "      <td>...</td>\n",
       "      <td>CONSULTANT SERVICES</td>\n",
       "      <td>Selection Based On Consultant's Qualific</td>\n",
       "      <td>Public Administration</td>\n",
       "      <td>Documentador de la Nueva Plataforma del SIAFI.</td>\n",
       "      <td>10/15/2014 12:00:00 AM</td>\n",
       "      <td>CAROLINA ANTONIA DURAN GARCIA</td>\n",
       "      <td>Honduras</td>\n",
       "      <td>HN</td>\n",
       "      <td>$2531.16</td>\n",
       "      <td>2531.16</td>\n",
       "    </tr>\n",
       "  </tbody>\n",
       "</table>\n",
       "<p>20 rows × 518 columns</p>\n",
       "</div>"
      ],
      "text/plain": [
       "                  Adolescent fertility rate (births per 1,000 women ages 15-19)  \\\n",
       "Guatemala_2012                                              84.0360               \n",
       "Honduras_2013                                               67.0488               \n",
       "Nicaragua_2015                                                  NaN               \n",
       "Honduras_2011                                               71.5636               \n",
       "Honduras_2005                                               90.4212               \n",
       "Honduras_2012                                               68.4390               \n",
       "Guatemala_2014                                              81.4040               \n",
       "Guatemala_2015                                                  NaN               \n",
       "Honduras_2005                                               90.4212               \n",
       "El Salvador_2014                                            65.5554               \n",
       "Nicaragua_2012                                              92.7840               \n",
       "Nicaragua_2011                                              95.1680               \n",
       "Nicaragua_2015                                                  NaN               \n",
       "Honduras_2015                                                   NaN               \n",
       "El Salvador_2013                                            66.1952               \n",
       "Nicaragua_2008                                             102.3200               \n",
       "Guatemala_2014                                              81.4040               \n",
       "El Salvador_2014                                            65.5554               \n",
       "Guatemala_2005                                              97.6154               \n",
       "Honduras_2014                                               65.6586               \n",
       "\n",
       "                  Age dependency ratio (% of working-age population)  \\\n",
       "Guatemala_2012                                            74.496429    \n",
       "Honduras_2013                                             61.250546    \n",
       "Nicaragua_2015                                                  NaN    \n",
       "Honduras_2011                                             65.342451    \n",
       "Honduras_2005                                             77.970128    \n",
       "Honduras_2012                                             63.264970    \n",
       "Guatemala_2014                                            72.069718    \n",
       "Guatemala_2015                                                  NaN    \n",
       "Honduras_2005                                             77.970128    \n",
       "El Salvador_2014                                          55.294848    \n",
       "Nicaragua_2012                                            57.388317    \n",
       "Nicaragua_2011                                            58.737309    \n",
       "Nicaragua_2015                                                  NaN    \n",
       "Honduras_2015                                                   NaN    \n",
       "El Salvador_2013                                          56.531230    \n",
       "Nicaragua_2008                                            62.681782    \n",
       "Guatemala_2014                                            72.069718    \n",
       "El Salvador_2014                                          55.294848    \n",
       "Guatemala_2005                                            84.074539    \n",
       "Honduras_2014                                             59.400971    \n",
       "\n",
       "                  Age dependency ratio, old (% of working-age population)  \\\n",
       "Guatemala_2012                                             8.036669         \n",
       "Honduras_2013                                              7.473739         \n",
       "Nicaragua_2015                                                  NaN         \n",
       "Honduras_2011                                              7.402193         \n",
       "Honduras_2005                                              7.393766         \n",
       "Honduras_2012                                              7.428029         \n",
       "Guatemala_2014                                             8.195788         \n",
       "Guatemala_2015                                                  NaN         \n",
       "Honduras_2005                                              7.393766         \n",
       "El Salvador_2014                                          12.409846         \n",
       "Nicaragua_2012                                             7.602746         \n",
       "Nicaragua_2011                                             7.600702         \n",
       "Nicaragua_2015                                                  NaN         \n",
       "Honduras_2015                                                   NaN         \n",
       "El Salvador_2013                                          12.240070         \n",
       "Nicaragua_2008                                             7.441922         \n",
       "Guatemala_2014                                             8.195788         \n",
       "El Salvador_2014                                          12.409846         \n",
       "Guatemala_2005                                             7.816662         \n",
       "Honduras_2014                                              7.548906         \n",
       "\n",
       "                  Age dependency ratio, young (% of working-age population)  \\\n",
       "Guatemala_2012                                            66.459759           \n",
       "Honduras_2013                                             53.776807           \n",
       "Nicaragua_2015                                                  NaN           \n",
       "Honduras_2011                                             57.940259           \n",
       "Honduras_2005                                             70.576362           \n",
       "Honduras_2012                                             55.836940           \n",
       "Guatemala_2014                                            63.873930           \n",
       "Guatemala_2015                                                  NaN           \n",
       "Honduras_2005                                             70.576362           \n",
       "El Salvador_2014                                          42.885003           \n",
       "Nicaragua_2012                                            49.785571           \n",
       "Nicaragua_2011                                            51.136607           \n",
       "Nicaragua_2015                                                  NaN           \n",
       "Honduras_2015                                                   NaN           \n",
       "El Salvador_2013                                          44.291160           \n",
       "Nicaragua_2008                                            55.239860           \n",
       "Guatemala_2014                                            63.873930           \n",
       "El Salvador_2014                                          42.885003           \n",
       "Guatemala_2005                                            76.257877           \n",
       "Honduras_2014                                             51.852065           \n",
       "\n",
       "                  Agricultural raw materials exports (% of merchandise exports)  \\\n",
       "Guatemala_2012                                             4.376754               \n",
       "Honduras_2013                                                   NaN               \n",
       "Nicaragua_2015                                                  NaN               \n",
       "Honduras_2011                                              1.146882               \n",
       "Honduras_2005                                              3.003968               \n",
       "Honduras_2012                                              0.994480               \n",
       "Guatemala_2014                                             2.991924               \n",
       "Guatemala_2015                                                  NaN               \n",
       "Honduras_2005                                              3.003968               \n",
       "El Salvador_2014                                           0.889645               \n",
       "Nicaragua_2012                                             0.823813               \n",
       "Nicaragua_2011                                             1.607946               \n",
       "Nicaragua_2015                                                  NaN               \n",
       "Honduras_2015                                                   NaN               \n",
       "El Salvador_2013                                           0.926382               \n",
       "Nicaragua_2008                                             0.581072               \n",
       "Guatemala_2014                                             2.991924               \n",
       "El Salvador_2014                                           0.889645               \n",
       "Guatemala_2005                                             3.281080               \n",
       "Honduras_2014                                                   NaN               \n",
       "\n",
       "                  Agricultural raw materials imports (% of merchandise imports)  \\\n",
       "Guatemala_2012                                             1.422494               \n",
       "Honduras_2013                                                   NaN               \n",
       "Nicaragua_2015                                                  NaN               \n",
       "Honduras_2011                                              0.979036               \n",
       "Honduras_2005                                              0.763710               \n",
       "Honduras_2012                                              0.940952               \n",
       "Guatemala_2014                                             1.237303               \n",
       "Guatemala_2015                                                  NaN               \n",
       "Honduras_2005                                              0.763710               \n",
       "El Salvador_2014                                           1.866755               \n",
       "Nicaragua_2012                                             0.720484               \n",
       "Nicaragua_2011                                             0.687935               \n",
       "Nicaragua_2015                                                  NaN               \n",
       "Honduras_2015                                                   NaN               \n",
       "El Salvador_2013                                           1.755974               \n",
       "Nicaragua_2008                                             0.339050               \n",
       "Guatemala_2014                                             1.237303               \n",
       "El Salvador_2014                                           1.866755               \n",
       "Guatemala_2005                                             1.208389               \n",
       "Honduras_2014                                                   NaN               \n",
       "\n",
       "                  Agriculture value added per worker (constant 2005 US$)  \\\n",
       "Guatemala_2012                                          1937.565776        \n",
       "Honduras_2013                                           2569.189989        \n",
       "Nicaragua_2015                                                  NaN        \n",
       "Honduras_2011                                           2237.253648        \n",
       "Honduras_2005                                           1779.044684        \n",
       "Honduras_2012                                           2479.995409        \n",
       "Guatemala_2014                                          2011.426967        \n",
       "Guatemala_2015                                                  NaN        \n",
       "Honduras_2005                                           1779.044684        \n",
       "El Salvador_2014                                        3583.028996        \n",
       "Nicaragua_2012                                          3661.543492        \n",
       "Nicaragua_2011                                          3716.143742        \n",
       "Nicaragua_2015                                                  NaN        \n",
       "Honduras_2015                                                   NaN        \n",
       "El Salvador_2013                                        3489.065262        \n",
       "Nicaragua_2008                                          3221.442532        \n",
       "Guatemala_2014                                          2011.426967        \n",
       "El Salvador_2014                                        3583.028996        \n",
       "Guatemala_2005                                          1785.092215        \n",
       "Honduras_2014                                           2647.068157        \n",
       "\n",
       "                  Agriculture, value added (% of GDP)  \\\n",
       "Guatemala_2012                              11.240906   \n",
       "Honduras_2013                               13.116300   \n",
       "Nicaragua_2015                                    NaN   \n",
       "Honduras_2011                               15.299201   \n",
       "Honduras_2005                               13.652371   \n",
       "Honduras_2012                               14.606969   \n",
       "Guatemala_2014                              11.518951   \n",
       "Guatemala_2015                                    NaN   \n",
       "Honduras_2005                               13.652371   \n",
       "El Salvador_2014                            11.415567   \n",
       "Nicaragua_2012                              19.852996   \n",
       "Nicaragua_2011                              20.927150   \n",
       "Nicaragua_2015                                    NaN   \n",
       "Honduras_2015                                     NaN   \n",
       "El Salvador_2013                            11.003419   \n",
       "Nicaragua_2008                              17.359838   \n",
       "Guatemala_2014                              11.518951   \n",
       "El Salvador_2014                            11.415567   \n",
       "Guatemala_2005                              13.383536   \n",
       "Honduras_2014                               13.806198   \n",
       "\n",
       "                  Agriculture, value added (annual % growth)  \\\n",
       "Guatemala_2012                                      4.939453   \n",
       "Honduras_2013                                       3.440072   \n",
       "Nicaragua_2015                                           NaN   \n",
       "Honduras_2011                                       6.484274   \n",
       "Honduras_2005                                      -2.293856   \n",
       "Honduras_2012                                      10.682794   \n",
       "Guatemala_2014                                      3.677177   \n",
       "Guatemala_2015                                           NaN   \n",
       "Honduras_2005                                      -2.293856   \n",
       "El Salvador_2014                                    1.614005   \n",
       "Nicaragua_2012                                     -2.605073   \n",
       "Nicaragua_2011                                      5.606395   \n",
       "Nicaragua_2015                                           NaN   \n",
       "Honduras_2015                                            NaN   \n",
       "El Salvador_2013                                   -0.442102   \n",
       "Nicaragua_2008                                     -0.491368   \n",
       "Guatemala_2014                                      3.677177   \n",
       "El Salvador_2014                                    1.614005   \n",
       "Guatemala_2005                                      2.127162   \n",
       "Honduras_2014                                       2.719491   \n",
       "\n",
       "                  Agriculture, value added (constant 2005 US$)     ...       \\\n",
       "Guatemala_2012                                    4.161891e+09     ...        \n",
       "Honduras_2013                                     1.698235e+09     ...        \n",
       "Nicaragua_2015                                             NaN     ...        \n",
       "Honduras_2011                                     1.483299e+09     ...        \n",
       "Honduras_2005                                     1.206192e+09     ...        \n",
       "Honduras_2012                                     1.641757e+09     ...        \n",
       "Guatemala_2014                                    4.519676e+09     ...        \n",
       "Guatemala_2015                                             NaN     ...        \n",
       "Honduras_2005                                     1.206192e+09     ...        \n",
       "El Salvador_2014                                  2.024411e+09     ...        \n",
       "Nicaragua_2012                                    1.255909e+09     ...        \n",
       "Nicaragua_2011                                    1.289502e+09     ...        \n",
       "Nicaragua_2015                                             NaN     ...        \n",
       "Honduras_2015                                              NaN     ...        \n",
       "El Salvador_2013                                  1.992256e+09     ...        \n",
       "Nicaragua_2008                                    1.159719e+09     ...        \n",
       "Guatemala_2014                                    4.519676e+09     ...        \n",
       "El Salvador_2014                                  2.024411e+09     ...        \n",
       "Guatemala_2005                                    3.372039e+09     ...        \n",
       "Honduras_2014                                     1.744418e+09     ...        \n",
       "\n",
       "                     Procurement Category  \\\n",
       "Guatemala_2012    NON-CONSULTING SERVICES   \n",
       "Honduras_2013         CONSULTANT SERVICES   \n",
       "Nicaragua_2015        CONSULTANT SERVICES   \n",
       "Honduras_2011         CONSULTANT SERVICES   \n",
       "Honduras_2005         CONSULTANT SERVICES   \n",
       "Honduras_2012         CONSULTANT SERVICES   \n",
       "Guatemala_2014        CONSULTANT SERVICES   \n",
       "Guatemala_2015        CONSULTANT SERVICES   \n",
       "Honduras_2005         CONSULTANT SERVICES   \n",
       "El Salvador_2014      CONSULTANT SERVICES   \n",
       "Nicaragua_2012                CIVIL WORKS   \n",
       "Nicaragua_2011                      GOODS   \n",
       "Nicaragua_2015                      GOODS   \n",
       "Honduras_2015         CONSULTANT SERVICES   \n",
       "El Salvador_2013      CONSULTANT SERVICES   \n",
       "Nicaragua_2008        CONSULTANT SERVICES   \n",
       "Guatemala_2014                      GOODS   \n",
       "El Salvador_2014      CONSULTANT SERVICES   \n",
       "Guatemala_2005                CIVIL WORKS   \n",
       "Honduras_2014         CONSULTANT SERVICES   \n",
       "\n",
       "                                        Procurement Method  \\\n",
       "Guatemala_2012           International Competitive Bidding   \n",
       "Honduras_2013                        Individual Consultant   \n",
       "Nicaragua_2015                     Single Source Selection   \n",
       "Honduras_2011                         Least Cost Selection   \n",
       "Honduras_2005                        Individual Consultant   \n",
       "Honduras_2012                        Individual Consultant   \n",
       "Guatemala_2014                     Single Source Selection   \n",
       "Guatemala_2015                     Single Source Selection   \n",
       "Honduras_2005                        Individual Consultant   \n",
       "El Salvador_2014                     Individual Consultant   \n",
       "Nicaragua_2012                          Direct Contracting   \n",
       "Nicaragua_2011                National Competitive Bidding   \n",
       "Nicaragua_2015                                         RFB   \n",
       "Honduras_2015                        Individual Consultant   \n",
       "El Salvador_2013                     Individual Consultant   \n",
       "Nicaragua_2008                       Individual Consultant   \n",
       "Guatemala_2014           International Competitive Bidding   \n",
       "El Salvador_2014                   Single Source Selection   \n",
       "Guatemala_2005           International Competitive Bidding   \n",
       "Honduras_2014     Selection Based On Consultant's Qualific   \n",
       "\n",
       "                                                Major Sector  \\\n",
       "Guatemala_2012                                     Education   \n",
       "Honduras_2013     (Historic)Health and other social services   \n",
       "Nicaragua_2015        Water, Sanitation and Waste Management   \n",
       "Honduras_2011         Water, Sanitation and Waste Management   \n",
       "Honduras_2005                               Financial Sector   \n",
       "Honduras_2012                          Public Administration   \n",
       "Guatemala_2014                         Public Administration   \n",
       "Guatemala_2015                         Public Administration   \n",
       "Honduras_2005                               Financial Sector   \n",
       "El Salvador_2014                       Public Administration   \n",
       "Nicaragua_2012                                Transportation   \n",
       "Nicaragua_2011        Water, Sanitation and Waste Management   \n",
       "Nicaragua_2015                                     Education   \n",
       "Honduras_2015                         Energy and Extractives   \n",
       "El Salvador_2013           Agriculture, Fishing and Forestry   \n",
       "Nicaragua_2008                         Public Administration   \n",
       "Guatemala_2014                                     Education   \n",
       "El Salvador_2014           Agriculture, Fishing and Forestry   \n",
       "Guatemala_2005                                     Education   \n",
       "Honduras_2014                          Public Administration   \n",
       "\n",
       "                                               Contract Description  \\\n",
       "Guatemala_2012    Contrato de servicios de impresión y embalaje ...   \n",
       "Honduras_2013        Coordinator for the Safer Municipality Project   \n",
       "Nicaragua_2015    Actualizar los datos Hidrogeologico con la pru...   \n",
       "Honduras_2011     Phase II: Design & implementation of advertisi...   \n",
       "Honduras_2005                    ASISTENTE ADMINISTRATIVO DE LA UCP   \n",
       "Honduras_2012     The objective is to strengthen the beneficiary...   \n",
       "Guatemala_2014                    Information Technology Specialist   \n",
       "Guatemala_2015                         Registry Information Analyst   \n",
       "Honduras_2005     CONSULTOR INTERNACIONAL PARA EL FORTALECIMIENT...   \n",
       "El Salvador_2014  RECRUITMENT FOR INFORMATION SURVEY PARTICIPANT...   \n",
       "Nicaragua_2012    paving works of road section: Jinotega, sectio...   \n",
       "Nicaragua_2011    construction equipment, safety equipment & too...   \n",
       "Nicaragua_2015    Contract LPI NO PAESE II 212 LIP B - Purchase ...   \n",
       "Honduras_2015           Finance specialist to work with communities   \n",
       "El Salvador_2013                               Financial Specialist   \n",
       "Nicaragua_2008    A consultant was hired to work as Economic and...   \n",
       "Guatemala_2014    Endowment of 14,022 school desks and 1,405 wri...   \n",
       "El Salvador_2014  Technical support for monitoring processes Par...   \n",
       "Guatemala_2005    CONVERT TO DIGITAL IMAGES 700,00 DOCUMENTS AND...   \n",
       "Honduras_2014        Documentador de la Nueva Plataforma del SIAFI.   \n",
       "\n",
       "                   Contract Signing Date  \\\n",
       "Guatemala_2012    08/06/2012 12:00:00 AM   \n",
       "Honduras_2013     05/23/2013 12:00:00 AM   \n",
       "Nicaragua_2015    02/10/2015 12:00:00 AM   \n",
       "Honduras_2011     09/16/2011 12:00:00 AM   \n",
       "Honduras_2005     02/15/2005 12:00:00 AM   \n",
       "Honduras_2012     04/09/2012 12:00:00 AM   \n",
       "Guatemala_2014    04/15/2014 12:00:00 AM   \n",
       "Guatemala_2015    08/12/2014 12:00:00 AM   \n",
       "Honduras_2005     08/16/2004 12:00:00 AM   \n",
       "El Salvador_2014  08/22/2013 12:00:00 AM   \n",
       "Nicaragua_2012    12/13/2011 12:00:00 AM   \n",
       "Nicaragua_2011    04/11/2011 12:00:00 AM   \n",
       "Nicaragua_2015    04/11/2016 12:00:00 AM   \n",
       "Honduras_2015     12/31/2014 12:00:00 AM   \n",
       "El Salvador_2013  01/17/2013 12:00:00 AM   \n",
       "Nicaragua_2008    02/11/2008 12:00:00 AM   \n",
       "Guatemala_2014    10/25/2013 12:00:00 AM   \n",
       "El Salvador_2014  01/01/2014 12:00:00 AM   \n",
       "Guatemala_2005    11/16/2004 12:00:00 AM   \n",
       "Honduras_2014     10/15/2014 12:00:00 AM   \n",
       "\n",
       "                                                Supplier  Supplier Country  \\\n",
       "Guatemala_2012                         EDITORA EDUCATIVA         Guatemala   \n",
       "Honduras_2013                 HUMBERTO RODRIGUEZ ESCOBAR          Honduras   \n",
       "Nicaragua_2015                JUAN CARLOS VALLE ASCENCIO         Nicaragua   \n",
       "Honduras_2011                   PUBLICIDAD COMERCIAL S.A          Honduras   \n",
       "Honduras_2005            DILCIA ENRIQUETA ROMERO BANEGAS          Honduras   \n",
       "Honduras_2012          MARLENE ALEJANDRA RODRIGUEZ ZERON          Honduras   \n",
       "Guatemala_2014                JUAN CARLOS GARCIA ARCHILA         Guatemala   \n",
       "Guatemala_2015             DAVID JONATHAN BANOS SALGUERO         Guatemala   \n",
       "Honduras_2005                            NORBERTO GARCIA          Honduras   \n",
       "El Salvador_2014             JUAN ANTONIO GARCIA BELTRAN       El Salvador   \n",
       "Nicaragua_2012    MODULO COMUNITARIO DE ADOQUINADO NO.12         Nicaragua   \n",
       "Nicaragua_2011          SISTEMAS DE SEGURIDAD BUHLER S.A         Nicaragua   \n",
       "Nicaragua_2015        ANDREA DEL CARMEN VELASQUEZ GAITAN         Nicaragua   \n",
       "Honduras_2015                         VALENTINA SU LOPEZ          Honduras   \n",
       "El Salvador_2013            MARIA ANGELICA PEREZ DE LUNA       El Salvador   \n",
       "Nicaragua_2008                MARIA DOLORES SEVILLA BOZA         Nicaragua   \n",
       "Guatemala_2014                              IMVERSA S.A.         Guatemala   \n",
       "El Salvador_2014            DAYSI NOHEMY ALVAREZ AGUILAR       El Salvador   \n",
       "Guatemala_2005                               INFILE S.A.         Guatemala   \n",
       "Honduras_2014              CAROLINA ANTONIA DURAN GARCIA          Honduras   \n",
       "\n",
       "                  Supplier Country Code  Total Contract Amount (USD)  \\\n",
       "Guatemala_2012                       GT                   $534802.46   \n",
       "Honduras_2013                        HN                    $27952.35   \n",
       "Nicaragua_2015                       NI                     $5300.00   \n",
       "Honduras_2011                        HN                   $181322.03   \n",
       "Honduras_2005                        HN                     $1152.99   \n",
       "Honduras_2012                        HN                     $6848.60   \n",
       "Guatemala_2014                       GT                     $6182.78   \n",
       "Guatemala_2015                       GT                     $3829.22   \n",
       "Honduras_2005                        HN                     $1804.50   \n",
       "El Salvador_2014                     SV                      $790.00   \n",
       "Nicaragua_2012                       NI                   $218436.52   \n",
       "Nicaragua_2011                       NI                   $151051.22   \n",
       "Nicaragua_2015                       NI                   $594130.36   \n",
       "Honduras_2015                        HN                          NaN   \n",
       "El Salvador_2013                     SV                    $33600.00   \n",
       "Nicaragua_2008                       NI                    $67456.08   \n",
       "Guatemala_2014                       GT                   $560930.97   \n",
       "El Salvador_2014                     SV                    $24000.00   \n",
       "Guatemala_2005                       GT                    $65363.96   \n",
       "Honduras_2014                        HN                     $2531.16   \n",
       "\n",
       "                  total_k_val  \n",
       "Guatemala_2012      534802.46  \n",
       "Honduras_2013        27952.35  \n",
       "Nicaragua_2015        5300.00  \n",
       "Honduras_2011       181322.03  \n",
       "Honduras_2005         1152.99  \n",
       "Honduras_2012         6848.60  \n",
       "Guatemala_2014        6182.78  \n",
       "Guatemala_2015        3829.22  \n",
       "Honduras_2005         1804.50  \n",
       "El Salvador_2014       790.00  \n",
       "Nicaragua_2012      218436.52  \n",
       "Nicaragua_2011      151051.22  \n",
       "Nicaragua_2015      594130.36  \n",
       "Honduras_2015             NaN  \n",
       "El Salvador_2013     33600.00  \n",
       "Nicaragua_2008       67456.08  \n",
       "Guatemala_2014      560930.97  \n",
       "El Salvador_2014     24000.00  \n",
       "Guatemala_2005       65363.96  \n",
       "Honduras_2014         2531.16  \n",
       "\n",
       "[20 rows x 518 columns]"
      ]
     },
     "execution_count": 122,
     "metadata": {},
     "output_type": "execute_result"
    }
   ],
   "source": [
    "df_wdi_wbk.sample(20)"
   ]
  },
  {
   "cell_type": "code",
   "execution_count": 61,
   "metadata": {},
   "outputs": [
    {
     "data": {
      "text/plain": [
       "0                                                                                          0\n",
       "Adolescent fertility rate (births per 1,000 women ages 15-19)                              0\n",
       "Age dependency ratio (% of working-age population)                                         0\n",
       "Age dependency ratio, old (% of working-age population)                                    0\n",
       "Age dependency ratio, young (% of working-age population)                                  0\n",
       "Agricultural raw materials exports (% of merchandise exports)                              0\n",
       "Agricultural raw materials imports (% of merchandise imports)                              0\n",
       "Agriculture value added per worker (constant 2005 US$)                                     0\n",
       "Agriculture, value added (% of GDP)                                                        0\n",
       "Agriculture, value added (annual % growth)                                                 0\n",
       "Agriculture, value added (constant 2005 US$)                                               0\n",
       "Agriculture, value added (constant LCU)                                                    0\n",
       "Agriculture, value added (current LCU)                                                     0\n",
       "Agriculture, value added (current US$)                                                     0\n",
       "Antiretroviral therapy coverage (% of people living with HIV)                              0\n",
       "Average grace period on new external debt commitments (years)                              0\n",
       "Average grace period on new external debt commitments, official (years)                    0\n",
       "Average grace period on new external debt commitments, private (years)                     0\n",
       "Average grant element on new external debt commitments (%)                                 0\n",
       "Average grant element on new external debt commitments, official (%)                       0\n",
       "Average grant element on new external debt commitments, private (%)                        0\n",
       "Average interest on new external debt commitments (%)                                      0\n",
       "Average interest on new external debt commitments, official (%)                            0\n",
       "Average interest on new external debt commitments, private (%)                             0\n",
       "Average maturity on new external debt commitments (years)                                  0\n",
       "Average maturity on new external debt commitments, official (years)                        0\n",
       "Average maturity on new external debt commitments, private (years)                         0\n",
       "Business extent of disclosure index (0=less disclosure to 10=more disclosure)             14\n",
       "Changes in inventories (constant LCU)                                                      0\n",
       "Changes in inventories (current LCU)                                                       0\n",
       "                                                                                          ..\n",
       "Undisbursed external debt, official creditors (UND, current US$)                           0\n",
       "Undisbursed external debt, private creditors (UND, current US$)                            0\n",
       "Undisbursed external debt, total (UND, current US$)                                        0\n",
       "Unemployment, female (% of female labor force)                                             0\n",
       "Unemployment, male (% of male labor force)                                                 0\n",
       "Unemployment, total (% of total labor force)                                               0\n",
       "Unemployment, youth female (% of female labor force ages 15-24) (modeled ILO estimate)     0\n",
       "Unemployment, youth male (% of male labor force ages 15-24) (modeled ILO estimate)         0\n",
       "Unemployment, youth total (% of total labor force ages 15-24) (modeled ILO estimate)       0\n",
       "Urban population                                                                           0\n",
       "Urban population (% of total)                                                              0\n",
       "Urban population growth (annual %)                                                         0\n",
       "Use of IMF credit (DOD, current US$)                                                       0\n",
       "Women's share of population ages 15+ living with HIV (%)                                   0\n",
       "Fiscal Year                                                                               14\n",
       "Region                                                                                    14\n",
       "Borrower Country                                                                          14\n",
       "Project ID                                                                                14\n",
       "Project Name                                                                              14\n",
       "Procurement Type                                                                          14\n",
       "Procurement Category                                                                      14\n",
       "Procurement Method                                                                        14\n",
       "Major Sector                                                                              14\n",
       "Contract Description                                                                      14\n",
       "Contract Signing Date                                                                     14\n",
       "Supplier                                                                                  14\n",
       "Supplier Country                                                                          14\n",
       "Supplier Country Code                                                                     14\n",
       "Total Contract Amount (USD)                                                               14\n",
       "total_k_val                                                                               14\n",
       "Length: 519, dtype: int64"
      ]
     },
     "execution_count": 61,
     "metadata": {},
     "output_type": "execute_result"
    }
   ],
   "source": [
    "df_wdi_wbk[df_wdi_wbk.index == 'Panama_2015'].count()"
   ]
  },
  {
   "cell_type": "code",
   "execution_count": 55,
   "metadata": {},
   "outputs": [
    {
     "name": "stdout",
     "output_type": "stream",
     "text": [
      "<class 'pandas.core.frame.DataFrame'>\n",
      "Index: 9356 entries, 0 to Panama_2015\n",
      "Columns: 519 entries, 0 to total_k_val\n",
      "dtypes: float64(503), object(16)\n",
      "memory usage: 37.1+ MB\n"
     ]
    }
   ],
   "source": [
    "df_wdi_wbk.info()"
   ]
  }
 ],
 "metadata": {
  "kernelspec": {
   "display_name": "Python 3",
   "language": "python",
   "name": "python3"
  },
  "language_info": {
   "codemirror_mode": {
    "name": "ipython",
    "version": 3
   },
   "file_extension": ".py",
   "mimetype": "text/x-python",
   "name": "python",
   "nbconvert_exporter": "python",
   "pygments_lexer": "ipython3",
   "version": "3.6.4"
  }
 },
 "nbformat": 4,
 "nbformat_minor": 2
}
